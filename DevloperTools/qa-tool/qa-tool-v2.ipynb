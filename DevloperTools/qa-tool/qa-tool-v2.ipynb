{
 "cells": [
  {
   "cell_type": "code",
   "execution_count": 1,
   "metadata": {
    "scrolled": true
   },
   "outputs": [
    {
     "name": "stdout",
     "output_type": "stream",
     "text": [
      "Log was not initialized - Unable to access vault while running in dev environment. (extra=None)\n",
      "Log was not initialized - Unable to access vault while running in dev environment. (extra=None)\n",
      "Log was not initialized - Unable to access vault while running in dev environment. (extra=None)\n",
      "Log was not initialized - Deprecated usage of secret_keys file for username!!! (extra=None)\n",
      "Log was not initialized - Deprecated usage of secret_keys file for password!!! (extra=None)\n",
      "Log was not initialized - Credentials are updated from secret_keys configuration file! Application name:  . Mongo name: Smart (extra=None)\n",
      "Log was not initialized - Open connection to SmartDev db. (extra=None)\n",
      "Log was not initialized - Closed connection to SmartDev db. (extra=None)\n"
     ]
    },
    {
     "name": "stderr",
     "output_type": "stream",
     "text": [
      "No handlers could be found for logger \"Trax\"\n"
     ]
    },
    {
     "name": "stdout",
     "output_type": "stream",
     "text": [
      "Log was not initialized - Unable to access vault while running in dev environment. (extra=None)\n"
     ]
    }
   ],
   "source": [
    "from qa_tool import qa \n",
    "from Trax.Utils.Conf.Configuration import Config\n",
    "\n",
    "Config.init(app_name=' ', config_file='~/theGarage/Trax/Apps/Services/KEngine/k-engine-prod.config')\n",
    "Config.PROD \n",
    "qa_tool = qa('diageous')\n"
   ]
  },
  {
   "cell_type": "code",
   "execution_count": 2,
   "metadata": {
    "scrolled": false
   },
   "outputs": [
    {
     "name": "stdout",
     "output_type": "stream",
     "text": [
      "## there is only 2 result type for kpi National Score - Off Premise\n",
      "[[193   0   0 193 193 193 193 193   0   0   0   0   0 193   0 193 193 193\n",
      "  193 193 193 193   0 193 193 193 193 193 193 193 193   0   0 193 193   0\n",
      "    0   0   0]]\n",
      "## there is only 2 result type for kpi Segment Score - Off Premise\n",
      "[[159   0   0 159 159 159 159 159   0   0   0   0   0 159   0 159 159 159\n",
      "  159 159 159 159   0 159 159 159 159 159 159 159 159   0   0 159 159   0\n",
      "    0   0   0]]\n",
      "## there is only 2 result type for kpi MSRP - Total Score\n",
      "[[176   0   0 176 176 176 176 176   0   0   0   0   0 176   0 176 176 176\n",
      "  176 176 176 176   0 176 176 176 176 176 176 176 176   0 176 176 176   0\n",
      "    0   0   0]]\n",
      "## there is only 2 result type for kpi Assortment on Trade\n",
      "[]\n",
      "## there is only 2 result type for kpi Assortment on Trade - SKU\n",
      "[]\n",
      "## there is only 2 result type for kpi Assortment off Trade\n",
      "[]\n",
      "## there is only 2 result type for kpi Assortment off Trade - SKU\n",
      "[]\n",
      "## there is only 2 result type for kpi National Score - On Premise\n",
      "[[13  0  0 13 13 13 13 13  0  0  0  0  0 13  0 13 13 13 13 13 13 13  0 13\n",
      "  13 13 13 13 13 13 13  0  0 13 13  0  0  0  0]]\n",
      "## there is only 2 result type for kpi Segment Score - On Premise\n",
      "[[13  0  0 13 13 13 13 13  0  0  0  0  0 13  0 13 13 13 13 13 13 13  0 13\n",
      "  13 13 13 13 13 13 13  0  0 13 13  0  0  0  0]]\n"
     ]
    }
   ],
   "source": [
    "qa_tool.run_all_tests()"
   ]
  }
 ],
 "metadata": {
  "kernelspec": {
   "display_name": "Python 2",
   "language": "python",
   "name": "python2"
  },
  "language_info": {
   "codemirror_mode": {
    "name": "ipython",
    "version": 2
   },
   "file_extension": ".py",
   "mimetype": "text/x-python",
   "name": "python",
   "nbconvert_exporter": "python",
   "pygments_lexer": "ipython2",
   "version": "2.7.13"
  }
 },
 "nbformat": 4,
 "nbformat_minor": 2
}
