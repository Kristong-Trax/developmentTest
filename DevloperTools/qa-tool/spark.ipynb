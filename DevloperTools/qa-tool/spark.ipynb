{
 "cells": [
  {
   "cell_type": "code",
   "execution_count": 1,
   "metadata": {
    "ExecuteTime": {
     "end_time": "2018-08-20T16:36:29.512230Z",
     "start_time": "2018-08-20T16:36:24.287879Z"
    }
   },
   "outputs": [],
   "source": [
    "import findspark\n",
    "from memory_profiler import profile\n",
    "findspark.init('/home/Ilan/miniconda/envs/garage/lib/python2.7/site-packages/pyspark')\n",
    "findspark.add_jars('/usr/local/bin/mysql-connector-java-5.1.46-bin.jar')\n",
    "from pyspark import SparkContext , SQLContext\n",
    "from pyspark.sql import SparkSession\n",
    "from Trax.Utils.Conf.Configuration import Config\n",
    "from Trax.Data.Projects.Connector import ProjectConnector\n",
    "from Trax.Cloud.Services.Connector.Keys import DbUsers\n",
    "from Trax.Data.Projects.Connector import ProjectConnector\n",
    "import pandas as pd\n",
    "\n",
    "\n",
    "#sc = SparkContext(appName=\"myAppName\")\n",
    "spark = SparkSession.builder.appName(\"run_etl\").config(\"spark.driver.memory\",\"4g\").config(\"spark.executor.memory\", \"4g\").config(\"spark.driver.cores\", \"4\").config(\"spark.driver.maxResultSize\", \"4\").getOrCreate()\n",
    "\n"
   ]
  },
  {
   "cell_type": "markdown",
   "metadata": {
    "ExecuteTime": {
     "end_time": "2018-08-12T14:03:07.790787Z",
     "start_time": "2018-08-12T14:03:07.784491Z"
    }
   },
   "source": [
    "### project params "
   ]
  },
  {
   "cell_type": "code",
   "execution_count": 8,
   "metadata": {
    "ExecuteTime": {
     "end_time": "2018-08-20T16:38:02.031356Z",
     "start_time": "2018-08-20T16:38:02.024423Z"
    }
   },
   "outputs": [],
   "source": [
    "project_name = 'jnjuk'\n",
    "env = 'prod'\n",
    "start_date = '2018-07-01'\n",
    "end_date =  '2018-07-10'\n",
    "batch_size = 80000"
   ]
  },
  {
   "cell_type": "code",
   "execution_count": 3,
   "metadata": {
    "ExecuteTime": {
     "end_time": "2018-08-20T16:36:44.908227Z",
     "start_time": "2018-08-20T16:36:32.511132Z"
    },
    "scrolled": true
   },
   "outputs": [
    {
     "name": "stdout",
     "output_type": "stream",
     "text": [
      "Log was not initialized - get_credentials: get request returned errors: [u'entry for role ilanp@traxretail.com not found'] (extra=None)\n",
      "Log was not initialized - get_credentials: get request returned errors: [u'entry for role ilanp@traxretail.com not found'] (extra=None)\n",
      "Log was not initialized - get_credentials: Failed to retrieve credentials from vault: exception is :Login to vault failed 1 tiems. last login resulted errors: [u'entry for role ilanp@traxretail.com not found'] (extra=None)\n",
      "Log was not initialized - Traceback (most recent call last):\n",
      "  File \"/home/Ilan/dev/theGarage/Trax/Cloud/Services/Connector/Credentials.py\", line 89, in get_credentials\n",
      "    token = cls.cloud_adapter.get_vault_token(force)\n",
      "  File \"/home/Ilan/dev/theGarage/Trax/Cloud/Services/Connector/ConnectorAdapter.py\", line 94, in get_vault_token\n",
      "    self._login_vault_request()\n",
      "  File \"/home/Ilan/dev/theGarage/Trax/Cloud/Services/Connector/ConnectorAdapter.py\", line 70, in _login_vault_request\n",
      "    self._check_for_errors(result, retries)\n",
      "  File \"/home/Ilan/dev/theGarage/Trax/Cloud/Services/Connector/ConnectorAdapter.py\", line 84, in _check_for_errors\n",
      "    return self._login_vault_request(retries - 1)\n",
      "  File \"/home/Ilan/dev/theGarage/Trax/Cloud/Services/Connector/ConnectorAdapter.py\", line 70, in _login_vault_request\n",
      "    self._check_for_errors(result, retries)\n",
      "  File \"/home/Ilan/dev/theGarage/Trax/Cloud/Services/Connector/ConnectorAdapter.py\", line 85, in _check_for_errors\n",
      "    raise Exception(VaultRequest.LOGIN_FAILED_ERR.format(VaultResource.RETRY_AMOUNT, errors))\n",
      "Exception: Login to vault failed 1 tiems. last login resulted errors: [u'entry for role ilanp@traxretail.com not found']\n",
      " (extra=None)\n",
      "Log was not initialized - get_credentials: get request returned errors: [u'entry for role ilanp@traxretail.com not found'] (extra=None)\n",
      "Log was not initialized - get_credentials: get request returned errors: [u'entry for role ilanp@traxretail.com not found'] (extra=None)\n",
      "Log was not initialized - get_credentials: Failed to retrieve credentials from vault: exception is :Login to vault failed 1 tiems. last login resulted errors: [u'entry for role ilanp@traxretail.com not found'] (extra=None)\n",
      "Log was not initialized - Traceback (most recent call last):\n",
      "  File \"/home/Ilan/dev/theGarage/Trax/Cloud/Services/Connector/Credentials.py\", line 89, in get_credentials\n",
      "    token = cls.cloud_adapter.get_vault_token(force)\n",
      "  File \"/home/Ilan/dev/theGarage/Trax/Cloud/Services/Connector/ConnectorAdapter.py\", line 94, in get_vault_token\n",
      "    self._login_vault_request()\n",
      "  File \"/home/Ilan/dev/theGarage/Trax/Cloud/Services/Connector/ConnectorAdapter.py\", line 70, in _login_vault_request\n",
      "    self._check_for_errors(result, retries)\n",
      "  File \"/home/Ilan/dev/theGarage/Trax/Cloud/Services/Connector/ConnectorAdapter.py\", line 84, in _check_for_errors\n",
      "    return self._login_vault_request(retries - 1)\n",
      "  File \"/home/Ilan/dev/theGarage/Trax/Cloud/Services/Connector/ConnectorAdapter.py\", line 70, in _login_vault_request\n",
      "    self._check_for_errors(result, retries)\n",
      "  File \"/home/Ilan/dev/theGarage/Trax/Cloud/Services/Connector/ConnectorAdapter.py\", line 85, in _check_for_errors\n",
      "    raise Exception(VaultRequest.LOGIN_FAILED_ERR.format(VaultResource.RETRY_AMOUNT, errors))\n",
      "Exception: Login to vault failed 1 tiems. last login resulted errors: [u'entry for role ilanp@traxretail.com not found']\n",
      " (extra=None)\n",
      "Log was not initialized - Deprecated usage of secret_keys file for username!!! (extra=None)\n",
      "Log was not initialized - Deprecated usage of secret_keys file for password!!! (extra=None)\n",
      "Log was not initialized - Credentials are updated from secret_keys configuration file! Application name:  . Mongo name: Smart (extra=None)\n",
      "Log was not initialized - Open connection to SmartProd db. (extra=None)\n",
      "Log was not initialized - Closed connection to SmartProd db. (extra=None)\n",
      "Log was not initialized - Connected to sqs in region us-east-1 (extra=None)\n",
      "Log was not initialized - Opened connection to queue jnjuk-prod-analysis-request in region us-east-1 (extra=None)\n",
      "Log was not initialized - Already connected to sqs in region us-east-1 (extra=None)\n",
      "Log was not initialized - Opened connection to queue jnjuk-prod-analysis-response in region us-east-1 (extra=None)\n",
      "Log was not initialized - Already connected to sqs in region us-east-1 (extra=None)\n",
      "Log was not initialized - Opened connection to queue jnjuk-prod-analysis-engine in region us-east-1 (extra=None)\n"
     ]
    }
   ],
   "source": [
    "from Trax.Utils.Conf.Configuration import Config\n",
    "from Trax.Data.Projects.Connector import ProjectConnector\n",
    "from Trax.Cloud.Services.Connector.Keys import DbUsers\n",
    "\n",
    "Config.init(app_name=' ', default_env=env ,config_file='~/theGarage/Trax/Apps/Services/KEngine/k-engine-prod.config')\n",
    "Config.PROD\n",
    "\n",
    "connector = ProjectConnector(project_name,DbUsers.CalculationEng)"
   ]
  },
  {
   "cell_type": "code",
   "execution_count": 5,
   "metadata": {
    "ExecuteTime": {
     "end_time": "2018-08-20T16:36:52.084146Z",
     "start_time": "2018-08-20T16:36:52.077785Z"
    }
   },
   "outputs": [],
   "source": [
    "connector.project_params['rds_name']\n",
    "project_url = 'jdbc:mysql://{}/report'.format(connector.project_params['rds_name'])\n",
    "\n",
    "results = '''    \n",
    "                    (SELECT \n",
    "                        report.kpi_level_2_results.*\n",
    "                    FROM\n",
    "                        report.kpi_level_2_results,\n",
    "                        probedata.session\n",
    "                    WHERE\n",
    "                        probedata.session.pk = report.kpi_level_2_results.session_fk\n",
    "                            AND probedata.session.visit_date BETWEEN '{}' AND '{}')tmp_kpi_level_2_results '''.format(start_date, end_date)\n",
    "\n",
    "static = '''(SELECT * FROM  static.kpi_level_2 where static.kpi_level_2.kpi_calculation_stage_fk = 3) static_kpi '''"
   ]
  },
  {
   "cell_type": "code",
   "execution_count": 6,
   "metadata": {
    "ExecuteTime": {
     "end_time": "2018-08-20T16:36:58.792270Z",
     "start_time": "2018-08-20T16:36:53.442158Z"
    }
   },
   "outputs": [
    {
     "name": "stdout",
     "output_type": "stream",
     "text": [
      "Log was not initialized - get_credentials: get request returned errors: [u'entry for role ilanp@traxretail.com not found'] (extra=None)\n",
      "Log was not initialized - get_credentials: get request returned errors: [u'entry for role ilanp@traxretail.com not found'] (extra=None)\n",
      "Log was not initialized - get_credentials: Failed to retrieve credentials from vault: exception is :Login to vault failed 1 tiems. last login resulted errors: [u'entry for role ilanp@traxretail.com not found'] (extra=None)\n",
      "Log was not initialized - Traceback (most recent call last):\n",
      "  File \"/home/Ilan/dev/theGarage/Trax/Cloud/Services/Connector/Credentials.py\", line 89, in get_credentials\n",
      "    token = cls.cloud_adapter.get_vault_token(force)\n",
      "  File \"/home/Ilan/dev/theGarage/Trax/Cloud/Services/Connector/ConnectorAdapter.py\", line 94, in get_vault_token\n",
      "    self._login_vault_request()\n",
      "  File \"/home/Ilan/dev/theGarage/Trax/Cloud/Services/Connector/ConnectorAdapter.py\", line 70, in _login_vault_request\n",
      "    self._check_for_errors(result, retries)\n",
      "  File \"/home/Ilan/dev/theGarage/Trax/Cloud/Services/Connector/ConnectorAdapter.py\", line 84, in _check_for_errors\n",
      "    return self._login_vault_request(retries - 1)\n",
      "  File \"/home/Ilan/dev/theGarage/Trax/Cloud/Services/Connector/ConnectorAdapter.py\", line 70, in _login_vault_request\n",
      "    self._check_for_errors(result, retries)\n",
      "  File \"/home/Ilan/dev/theGarage/Trax/Cloud/Services/Connector/ConnectorAdapter.py\", line 85, in _check_for_errors\n",
      "    raise Exception(VaultRequest.LOGIN_FAILED_ERR.format(VaultResource.RETRY_AMOUNT, errors))\n",
      "Exception: Login to vault failed 1 tiems. last login resulted errors: [u'entry for role ilanp@traxretail.com not found']\n",
      " (extra=None)\n",
      "Log was not initialized - Already connected to sqs in region us-east-1 (extra=None)\n",
      "Log was not initialized - Opened connection to queue diageous-prod-analysis-request in region us-east-1 (extra=None)\n",
      "Log was not initialized - Already connected to sqs in region us-east-1 (extra=None)\n",
      "Log was not initialized - Opened connection to queue diageous-prod-analysis-response in region us-east-1 (extra=None)\n",
      "Log was not initialized - Already connected to sqs in region us-east-1 (extra=None)\n",
      "Log was not initialized - Opened connection to queue diageous-prod-analysis-engine in region us-east-1 (extra=None)\n"
     ]
    },
    {
     "name": "stderr",
     "output_type": "stream",
     "text": [
      "No handlers could be found for logger \"Trax\"\n"
     ]
    }
   ],
   "source": [
    "connector = ProjectConnector('diageous',DbUsers.CalculationEng)\n",
    "meta_results = '''    \n",
    "            SELECT \n",
    "                count(*) count, \n",
    "                MIN(probedata.session.pk) min,\n",
    "                MAX(probedata.session.pk) max\n",
    "            FROM\n",
    "                report.kpi_level_2_results,\n",
    "                probedata.session\n",
    "            WHERE\n",
    "                probedata.session.pk = report.kpi_level_2_results.session_fk\n",
    "                    AND probedata.session.visit_date BETWEEN '{}' AND '{}';'''.format(start_date, end_date)\n",
    "kpi_results_meta_data = pd.read_sql_query(meta_results, connector.db)\n",
    "connector.disconnect_rds()"
   ]
  },
  {
   "cell_type": "code",
   "execution_count": 9,
   "metadata": {
    "ExecuteTime": {
     "end_time": "2018-08-20T16:38:08.009968Z",
     "start_time": "2018-08-20T16:38:07.997073Z"
    }
   },
   "outputs": [
    {
     "name": "stdout",
     "output_type": "stream",
     "text": [
      "count of rows : 2605325\n",
      " number of partition:32\n"
     ]
    }
   ],
   "source": [
    "lowerBound = kpi_results_meta_data.loc[0]['min']\n",
    "upperBound = kpi_results_meta_data.loc[0]['max']\n",
    "count_of_row = kpi_results_meta_data.loc[0]['count']\n",
    "\n",
    "if (count_of_row / batch_size ) > 1 :\n",
    "    number_of_partition = (count_of_row / batch_size )\n",
    "else: \n",
    "    number_of_partition = 1 \n",
    "print \"count of rows : \"  + str(count_of_row)    \n",
    "print \" number of partition:\" + str(number_of_partition)"
   ]
  },
  {
   "cell_type": "code",
   "execution_count": 10,
   "metadata": {
    "ExecuteTime": {
     "end_time": "2018-08-20T16:38:20.918255Z",
     "start_time": "2018-08-20T16:38:13.155351Z"
    }
   },
   "outputs": [
    {
     "data": {
      "text/plain": [
       "11"
      ]
     },
     "execution_count": 10,
     "metadata": {},
     "output_type": "execute_result"
    }
   ],
   "source": [
    "static_kpi = spark.read.jdbc(url=project_url,\n",
    "                          table=static,                          \n",
    "                          properties={\"user\": connector.dbuser.username, \n",
    "                                      \"password\":connector.dbuser.cred,\n",
    "                                      \"driver\": 'com.mysql.jdbc.Driver'}).cache()\n",
    "\n",
    "\n",
    "static_kpi.count()\n"
   ]
  },
  {
   "cell_type": "code",
   "execution_count": 11,
   "metadata": {
    "ExecuteTime": {
     "end_time": "2018-08-20T16:45:10.304525Z",
     "start_time": "2018-08-20T16:38:22.746685Z"
    }
   },
   "outputs": [
    {
     "data": {
      "text/plain": [
       "6191753"
      ]
     },
     "execution_count": 11,
     "metadata": {},
     "output_type": "execute_result"
    }
   ],
   "source": [
    "kpi_results = spark.read.jdbc(url=project_url,\n",
    "                          table=results,                          \n",
    "                          properties={\"user\": connector.dbuser.username, \n",
    "                                      \"password\":connector.dbuser.cred,\n",
    "                                      \"partitionColumn\":\"tmp_kpi_level_2_results.session_fk\" ,\n",
    "                                      \"lowerBound\":\"{}\".format(lowerBound),\n",
    "                                      \"upperBound\":\"{}\".format(upperBound),\n",
    "                                      \"numPartitions\":\"{}\".format(number_of_partition),\n",
    "                                      \"driver\": 'com.mysql.jdbc.Driver'}).cache()\n",
    "\n",
    "kpi_results.count()\n"
   ]
  },
  {
   "cell_type": "markdown",
   "metadata": {
    "ExecuteTime": {
     "end_time": "2018-08-12T13:53:44.167854Z",
     "start_time": "2018-08-12T13:53:44.038030Z"
    },
    "scrolled": true
   },
   "source": [
    "### test 1 - kpi not calculated "
   ]
  },
  {
   "cell_type": "code",
   "execution_count": 13,
   "metadata": {
    "ExecuteTime": {
     "end_time": "2018-08-20T16:52:28.656111Z",
     "start_time": "2018-08-20T16:52:21.299672Z"
    },
    "scrolled": true
   },
   "outputs": [
    {
     "name": "stdout",
     "output_type": "stream",
     "text": [
      "+------------------+-----+\n",
      "|       client_name|count|\n",
      "+------------------+-----+\n",
      "|eye_hand_level_sos|  313|\n",
      "+------------------+-----+\n",
      "\n"
     ]
    }
   ],
   "source": [
    "merged_kpi_results = static_kpi.join(kpi_results, static_kpi.pk == kpi_results.kpi_level_2_fk ,how='left')\n",
    "# merged_kpi_results.select(\"session_fk\",\"client_name\",\"result\").filter('result is null').show()\n",
    "merged_kpi_results.select(\"client_name\").filter('result is null').groupBy(\"client_name\").count().show()"
   ]
  },
  {
   "cell_type": "markdown",
   "metadata": {
    "ExecuteTime": {
     "end_time": "2018-08-12T17:10:25.315228Z",
     "start_time": "2018-08-12T17:10:25.309210Z"
    }
   },
   "source": [
    "### test -invalid % results"
   ]
  },
  {
   "cell_type": "code",
   "execution_count": 17,
   "metadata": {
    "ExecuteTime": {
     "end_time": "2018-08-20T17:00:20.943694Z",
     "start_time": "2018-08-20T17:00:16.912803Z"
    }
   },
   "outputs": [
    {
     "name": "stdout",
     "output_type": "stream",
     "text": [
      "+-----------------------------------+-----+\n",
      "|client_name                        |count|\n",
      "+-----------------------------------+-----+\n",
      "|promo                              |198  |\n",
      "|PRODUCT_PRESENCE_IN_CATEGORY_CUSTOM|15883|\n",
      "|store_assortment - SKU             |15883|\n",
      "|eye_hand_level_sos                 |10173|\n",
      "|promo - SKU                        |5172 |\n",
      "+-----------------------------------+-----+\n",
      "\n"
     ]
    }
   ],
   "source": [
    "#merged_kpi_results.select(\"session_fk\",\"client_name\",\"result\").filter('is_percent = 1 and result < 0 or result > 1').show(1000 ,False)\n",
    "merged_kpi_results.select(\"client_name\").filter('is_percent = 1 and result < 0 or result > 1').groupBy(\"client_name\").count().show(1000 ,False)\n"
   ]
  },
  {
   "cell_type": "markdown",
   "metadata": {},
   "source": [
    "### test -results with value 0 \n"
   ]
  },
  {
   "cell_type": "code",
   "execution_count": 18,
   "metadata": {
    "ExecuteTime": {
     "end_time": "2018-08-20T17:00:41.799744Z",
     "start_time": "2018-08-20T17:00:41.780262Z"
    }
   },
   "outputs": [],
   "source": [
    "import pyspark.sql.functions as F"
   ]
  },
  {
   "cell_type": "code",
   "execution_count": 19,
   "metadata": {
    "ExecuteTime": {
     "end_time": "2018-08-20T17:00:52.481519Z",
     "start_time": "2018-08-20T17:00:44.900510Z"
    }
   },
   "outputs": [
    {
     "name": "stdout",
     "output_type": "stream",
     "text": [
      "<class 'pyspark.sql.dataframe.DataFrame'>\n",
      "+-----------------------------------------------+----------------------------------------+\n",
      "|client_name                                    |((total_zero_count / total_count) * 100)|\n",
      "+-----------------------------------------------+----------------------------------------+\n",
      "|promo                                          |6.60377358490566                        |\n",
      "|secondary placement location visibility quality|90.85872576177285                       |\n",
      "|PRODUCT_PRESENCE_IN_CATEGORY_CUSTOM            |17.38361508452536                       |\n",
      "|store_assortment - SKU                         |17.366422142448364                      |\n",
      "|eye_hand_level_sos                             |45.65476498937659                       |\n",
      "|secondary placement location quality           |82.82548476454294                       |\n",
      "|DST_BY_CATEGORY                                |2.9935275080906147                      |\n",
      "|promo - SKU                                    |63.61589869855786                       |\n",
      "|OOS_BY_CATEGORY                                |33.57605177993527                       |\n",
      "|OOS_BY_DYNAMIC_ASSORT                          |13.468013468013467                      |\n",
      "+-----------------------------------------------+----------------------------------------+\n",
      "\n"
     ]
    }
   ],
   "source": [
    "results_with_zero2 = merged_kpi_results.select(\"session_fk\",\"client_name\",\"result\").filter( 'result == 0')\n",
    "\n",
    "\n",
    "merged_kpi_results2 = merged_kpi_results.groupBy('client_name').count().withColumnRenamed('count', 'total_count')\n",
    "results_with_zero2 = results_with_zero2.groupBy('client_name').count().withColumnRenamed('count', 'total_zero_count').withColumnRenamed('client_name', 'client_name_zero')\n",
    "merged_test = merged_kpi_results2.join(results_with_zero2 , results_with_zero2.client_name_zero == merged_kpi_results2.client_name, how= 'left' )\n",
    "\n",
    "print type (merged_test)\n",
    "res= merged_test.select('client_name',( F.col('total_zero_count') / F.col('total_count'))* 100 ) .filter('total_zero_count is not null' )\n",
    "\n",
    "res.show(100, False)\n",
    "#todo write .all to one file \n",
    "# sults_with_zero.write.csv('/tmp/results_with_zero.csv')"
   ]
  },
  {
   "cell_type": "code",
   "execution_count": 40,
   "metadata": {
    "ExecuteTime": {
     "end_time": "2018-08-20T17:22:22.192831Z",
     "start_time": "2018-08-20T17:22:17.462783Z"
    }
   },
   "outputs": [
    {
     "name": "stdout",
     "output_type": "stream",
     "text": [
      "+--------------------+------+--------------------------------+\n",
      "|         client_name|result|(total_zero_count / total_count)|\n",
      "+--------------------+------+--------------------------------+\n",
      "|secondary placeme...|   0.0|              0.9085872576177285|\n",
      "|PRODUCT_PRESENCE_...| 100.0|              0.8261638491547464|\n",
      "|store_assortment ...| 100.0|              0.8263357785755163|\n",
      "|secondary placeme...|   0.0|              0.8282548476454293|\n",
      "|         promo - SKU|   0.0|              0.6361589869855786|\n",
      "+--------------------+------+--------------------------------+\n",
      "\n"
     ]
    }
   ],
   "source": [
    "### test - uniqe resutls per kpi (there is only 2 result type for kpi)\n",
    "\n",
    "test_results = merged_kpi_results.groupBy('client_name','result').count().withColumnRenamed('count', 'total_zero_count').withColumnRenamed('client_name', 'client_name_zero')\n",
    "validation = merged_kpi_results2.join(test_results , test_results.client_name_zero == merged_kpi_results2.client_name, how= 'left' )\n",
    "\n",
    "validation.select('client_name' ,'result' , (F.col('total_zero_count') / F.col('total_count'))).filter((F.col('total_zero_count') / F.col('total_count') ) > 0.5  ).show()\n"
   ]
  }
 ],
 "metadata": {
  "kernelspec": {
   "display_name": "Python 2",
   "language": "python",
   "name": "python2"
  },
  "language_info": {
   "codemirror_mode": {
    "name": "ipython",
    "version": 2
   },
   "file_extension": ".py",
   "mimetype": "text/x-python",
   "name": "python",
   "nbconvert_exporter": "python",
   "pygments_lexer": "ipython2",
   "version": "2.7.13"
  }
 },
 "nbformat": 4,
 "nbformat_minor": 2
}
