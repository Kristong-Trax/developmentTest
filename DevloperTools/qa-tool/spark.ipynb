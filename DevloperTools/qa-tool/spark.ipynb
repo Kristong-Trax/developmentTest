{
 "cells": [
  {
   "cell_type": "code",
   "execution_count": 1,
   "metadata": {
    "ExecuteTime": {
     "end_time": "2018-08-22T09:50:00.262294Z",
     "start_time": "2018-08-22T09:49:55.550570Z"
    }
   },
   "outputs": [],
   "source": [
    "import findspark\n",
    "from memory_profiler import profile\n",
    "findspark.init('/home/Ilan/miniconda/envs/garage/lib/python2.7/site-packages/pyspark')\n",
    "findspark.add_jars('/usr/local/bin/mysql-connector-java-5.1.46-bin.jar')\n",
    "from pyspark import SparkContext , SQLContext\n",
    "from pyspark.sql import SparkSession\n",
    "from Trax.Utils.Conf.Configuration import Config\n",
    "from Trax.Data.Projects.Connector import ProjectConnector\n",
    "from Trax.Cloud.Services.Connector.Keys import DbUsers\n",
    "from Trax.Data.Projects.Connector import ProjectConnector\n",
    "import pandas as pd\n",
    "\n",
    "\n",
    "#sc = SparkContext(appName=\"myAppName\")\n",
    "spark = SparkSession.builder.appName(\"run_etl\").config(\"spark.driver.memory\",\"4g\").config(\"spark.executor.memory\", \"4g\").config(\"spark.driver.cores\", \"4\").config(\"spark.driver.maxResultSize\", \"4\").config(\"spark.ssl.protocol\", \"TLSv1.1\").getOrCreate()\n",
    "\n"
   ]
  },
  {
   "cell_type": "markdown",
   "metadata": {
    "ExecuteTime": {
     "end_time": "2018-08-12T14:03:07.790787Z",
     "start_time": "2018-08-12T14:03:07.784491Z"
    }
   },
   "source": [
    "### project params "
   ]
  },
  {
   "cell_type": "code",
   "execution_count": 2,
   "metadata": {
    "ExecuteTime": {
     "end_time": "2018-08-22T09:50:16.713633Z",
     "start_time": "2018-08-22T09:50:16.705632Z"
    }
   },
   "outputs": [],
   "source": [
    "project_name = 'jnjuk'\n",
    "env = 'prod'\n",
    "start_date = '2018-07-01'\n",
    "end_date =  '2018-07-02'\n",
    "batch_size = 80000"
   ]
  },
  {
   "cell_type": "code",
   "execution_count": 7,
   "metadata": {
    "ExecuteTime": {
     "end_time": "2018-08-22T10:02:15.093035Z",
     "start_time": "2018-08-22T10:02:04.118212Z"
    },
    "scrolled": true
   },
   "outputs": [
    {
     "name": "stdout",
     "output_type": "stream",
     "text": [
      "Log was not initialized - get_credentials: get request returned errors: [u'entry for role ilanp@traxretail.com not found'] (extra=None)\n",
      "Log was not initialized - get_credentials: get request returned errors: [u'entry for role ilanp@traxretail.com not found'] (extra=None)\n",
      "Log was not initialized - get_credentials: Failed to retrieve credentials from vault: exception is :Login to vault failed 1 tiems. last login resulted errors: [u'entry for role ilanp@traxretail.com not found'] (extra=None)\n",
      "Log was not initialized - Traceback (most recent call last):\n",
      "  File \"/home/Ilan/dev/theGarage/Trax/Cloud/Services/Connector/Credentials.py\", line 89, in get_credentials\n",
      "    token = cls.cloud_adapter.get_vault_token(force)\n",
      "  File \"/home/Ilan/dev/theGarage/Trax/Cloud/Services/Connector/ConnectorAdapter.py\", line 94, in get_vault_token\n",
      "    self._login_vault_request()\n",
      "  File \"/home/Ilan/dev/theGarage/Trax/Cloud/Services/Connector/ConnectorAdapter.py\", line 70, in _login_vault_request\n",
      "    self._check_for_errors(result, retries)\n",
      "  File \"/home/Ilan/dev/theGarage/Trax/Cloud/Services/Connector/ConnectorAdapter.py\", line 84, in _check_for_errors\n",
      "    return self._login_vault_request(retries - 1)\n",
      "  File \"/home/Ilan/dev/theGarage/Trax/Cloud/Services/Connector/ConnectorAdapter.py\", line 70, in _login_vault_request\n",
      "    self._check_for_errors(result, retries)\n",
      "  File \"/home/Ilan/dev/theGarage/Trax/Cloud/Services/Connector/ConnectorAdapter.py\", line 85, in _check_for_errors\n",
      "    raise Exception(VaultRequest.LOGIN_FAILED_ERR.format(VaultResource.RETRY_AMOUNT, errors))\n",
      "Exception: Login to vault failed 1 tiems. last login resulted errors: [u'entry for role ilanp@traxretail.com not found']\n",
      " (extra=None)\n",
      "Log was not initialized - get_credentials: get request returned errors: [u'entry for role ilanp@traxretail.com not found'] (extra=None)\n",
      "Log was not initialized - get_credentials: get request returned errors: [u'entry for role ilanp@traxretail.com not found'] (extra=None)\n",
      "Log was not initialized - get_credentials: Failed to retrieve credentials from vault: exception is :Login to vault failed 1 tiems. last login resulted errors: [u'entry for role ilanp@traxretail.com not found'] (extra=None)\n",
      "Log was not initialized - Traceback (most recent call last):\n",
      "  File \"/home/Ilan/dev/theGarage/Trax/Cloud/Services/Connector/Credentials.py\", line 89, in get_credentials\n",
      "    token = cls.cloud_adapter.get_vault_token(force)\n",
      "  File \"/home/Ilan/dev/theGarage/Trax/Cloud/Services/Connector/ConnectorAdapter.py\", line 94, in get_vault_token\n",
      "    self._login_vault_request()\n",
      "  File \"/home/Ilan/dev/theGarage/Trax/Cloud/Services/Connector/ConnectorAdapter.py\", line 70, in _login_vault_request\n",
      "    self._check_for_errors(result, retries)\n",
      "  File \"/home/Ilan/dev/theGarage/Trax/Cloud/Services/Connector/ConnectorAdapter.py\", line 84, in _check_for_errors\n",
      "    return self._login_vault_request(retries - 1)\n",
      "  File \"/home/Ilan/dev/theGarage/Trax/Cloud/Services/Connector/ConnectorAdapter.py\", line 70, in _login_vault_request\n",
      "    self._check_for_errors(result, retries)\n",
      "  File \"/home/Ilan/dev/theGarage/Trax/Cloud/Services/Connector/ConnectorAdapter.py\", line 85, in _check_for_errors\n",
      "    raise Exception(VaultRequest.LOGIN_FAILED_ERR.format(VaultResource.RETRY_AMOUNT, errors))\n",
      "Exception: Login to vault failed 1 tiems. last login resulted errors: [u'entry for role ilanp@traxretail.com not found']\n",
      " (extra=None)\n",
      "Log was not initialized - Deprecated usage of secret_keys file for username!!! (extra=None)\n",
      "Log was not initialized - Deprecated usage of secret_keys file for password!!! (extra=None)\n",
      "Log was not initialized - Credentials are updated from secret_keys configuration file! Application name:  . Mongo name: Smart (extra=None)\n",
      "Log was not initialized - Open connection to SmartProd db. (extra=None)\n",
      "Log was not initialized - Closed connection to SmartProd db. (extra=None)\n",
      "Log was not initialized - Connected to sqs in region us-east-1 (extra=None)\n",
      "Log was not initialized - Opened connection to queue jnjuk-prod-analysis-request in region us-east-1 (extra=None)\n",
      "Log was not initialized - Already connected to sqs in region us-east-1 (extra=None)\n",
      "Log was not initialized - Opened connection to queue jnjuk-prod-analysis-response in region us-east-1 (extra=None)\n",
      "Log was not initialized - Already connected to sqs in region us-east-1 (extra=None)\n",
      "Log was not initialized - Opened connection to queue jnjuk-prod-analysis-engine in region us-east-1 (extra=None)\n"
     ]
    }
   ],
   "source": [
    "from Trax.Utils.Conf.Configuration import Config\n",
    "from Trax.Data.Projects.Connector import ProjectConnector\n",
    "from Trax.Cloud.Services.Connector.Keys import DbUsers\n",
    "\n",
    "Config.init(app_name=' ', default_env=env ,config_file='~/theGarage/Trax/Apps/Services/KEngine/k-engine-prod.config')\n",
    "Config.PROD\n",
    "\n",
    "connector = ProjectConnector(project_name,DbUsers.CalculationEng)"
   ]
  },
  {
   "cell_type": "code",
   "execution_count": 111,
   "metadata": {
    "ExecuteTime": {
     "end_time": "2018-08-23T10:54:19.437271Z",
     "start_time": "2018-08-23T10:54:19.431093Z"
    }
   },
   "outputs": [],
   "source": [
    "connector.project_params['rds_name']\n",
    "project_url = 'jdbc:mysql://{}/report'.format(connector.project_params['rds_name'])\n",
    "\n",
    "results = '''    \n",
    "                    (SELECT \n",
    "                        report.kpi_level_2_results.*\n",
    "                    FROM\n",
    "                        report.kpi_level_2_results,\n",
    "                        probedata.session\n",
    "                    WHERE\n",
    "                        probedata.session.pk = report.kpi_level_2_results.session_fk\n",
    "                            AND probedata.session.visit_date BETWEEN '{}' AND '{}')tmp_kpi_level_2_results '''.format(start_date, end_date)\n",
    "\n",
    "static = '''(SELECT * FROM  static.kpi_level_2 where static.kpi_level_2.kpi_calculation_stage_fk = 3) static_kpi '''\n",
    "categories =  '''(select * from static_new.category) categories '''"
   ]
  },
  {
   "cell_type": "code",
   "execution_count": 9,
   "metadata": {
    "ExecuteTime": {
     "end_time": "2018-08-22T10:02:19.749724Z",
     "start_time": "2018-08-22T10:02:15.118574Z"
    }
   },
   "outputs": [
    {
     "name": "stdout",
     "output_type": "stream",
     "text": [
      "Log was not initialized - get_credentials: get request returned errors: [u'entry for role ilanp@traxretail.com not found'] (extra=None)\n",
      "Log was not initialized - get_credentials: get request returned errors: [u'entry for role ilanp@traxretail.com not found'] (extra=None)\n",
      "Log was not initialized - get_credentials: Failed to retrieve credentials from vault: exception is :Login to vault failed 1 tiems. last login resulted errors: [u'entry for role ilanp@traxretail.com not found'] (extra=None)\n",
      "Log was not initialized - Traceback (most recent call last):\n",
      "  File \"/home/Ilan/dev/theGarage/Trax/Cloud/Services/Connector/Credentials.py\", line 89, in get_credentials\n",
      "    token = cls.cloud_adapter.get_vault_token(force)\n",
      "  File \"/home/Ilan/dev/theGarage/Trax/Cloud/Services/Connector/ConnectorAdapter.py\", line 94, in get_vault_token\n",
      "    self._login_vault_request()\n",
      "  File \"/home/Ilan/dev/theGarage/Trax/Cloud/Services/Connector/ConnectorAdapter.py\", line 70, in _login_vault_request\n",
      "    self._check_for_errors(result, retries)\n",
      "  File \"/home/Ilan/dev/theGarage/Trax/Cloud/Services/Connector/ConnectorAdapter.py\", line 84, in _check_for_errors\n",
      "    return self._login_vault_request(retries - 1)\n",
      "  File \"/home/Ilan/dev/theGarage/Trax/Cloud/Services/Connector/ConnectorAdapter.py\", line 70, in _login_vault_request\n",
      "    self._check_for_errors(result, retries)\n",
      "  File \"/home/Ilan/dev/theGarage/Trax/Cloud/Services/Connector/ConnectorAdapter.py\", line 85, in _check_for_errors\n",
      "    raise Exception(VaultRequest.LOGIN_FAILED_ERR.format(VaultResource.RETRY_AMOUNT, errors))\n",
      "Exception: Login to vault failed 1 tiems. last login resulted errors: [u'entry for role ilanp@traxretail.com not found']\n",
      " (extra=None)\n",
      "Log was not initialized - Already connected to sqs in region us-east-1 (extra=None)\n",
      "Log was not initialized - Opened connection to queue diageous-prod-analysis-request in region us-east-1 (extra=None)\n",
      "Log was not initialized - Already connected to sqs in region us-east-1 (extra=None)\n",
      "Log was not initialized - Opened connection to queue diageous-prod-analysis-response in region us-east-1 (extra=None)\n",
      "Log was not initialized - Already connected to sqs in region us-east-1 (extra=None)\n",
      "Log was not initialized - Opened connection to queue diageous-prod-analysis-engine in region us-east-1 (extra=None)\n"
     ]
    }
   ],
   "source": [
    "connector = ProjectConnector('diageous',DbUsers.CalculationEng)\n",
    "meta_results = '''    \n",
    "            SELECT \n",
    "                count(*) count, \n",
    "                MIN(probedata.session.pk) min,\n",
    "                MAX(probedata.session.pk) max\n",
    "            FROM\n",
    "                report.kpi_level_2_results,\n",
    "                probedata.session\n",
    "            WHERE\n",
    "                probedata.session.pk = report.kpi_level_2_results.session_fk\n",
    "                    AND probedata.session.visit_date BETWEEN '{}' AND '{}';'''.format(start_date, end_date)\n",
    "kpi_results_meta_data = pd.read_sql_query(meta_results, connector.db)\n",
    "connector.disconnect_rds()"
   ]
  },
  {
   "cell_type": "code",
   "execution_count": 10,
   "metadata": {
    "ExecuteTime": {
     "end_time": "2018-08-22T10:02:19.764864Z",
     "start_time": "2018-08-22T10:02:19.753391Z"
    }
   },
   "outputs": [
    {
     "name": "stdout",
     "output_type": "stream",
     "text": [
      "count of rows : 9227\n",
      " number of partition:1\n"
     ]
    }
   ],
   "source": [
    "lowerBound = kpi_results_meta_data.loc[0]['min']\n",
    "upperBound = kpi_results_meta_data.loc[0]['max']\n",
    "count_of_row = kpi_results_meta_data.loc[0]['count']\n",
    "\n",
    "if (count_of_row / batch_size ) > 1 :\n",
    "    number_of_partition = (count_of_row / batch_size )\n",
    "else: \n",
    "    number_of_partition = 1 \n"
   ]
  },
  {
   "cell_type": "code",
   "execution_count": 13,
   "metadata": {
    "ExecuteTime": {
     "end_time": "2018-08-22T10:02:56.263753Z",
     "start_time": "2018-08-22T10:02:52.932188Z"
    }
   },
   "outputs": [
    {
     "data": {
      "text/plain": [
       "11"
      ]
     },
     "execution_count": 13,
     "metadata": {},
     "output_type": "execute_result"
    }
   ],
   "source": [
    "static_kpi = spark.read.jdbc(url=project_url,\n",
    "                          table=static,                          \n",
    "                          properties={\"user\": connector.dbuser.username, \n",
    "                                      \"password\":connector.dbuser.cred,\n",
    "                                      \"driver\": 'com.mysql.jdbc.Driver'}).cache()\n",
    "\n",
    "\n",
    "static_kpi.count()\n"
   ]
  },
  {
   "cell_type": "code",
   "execution_count": 14,
   "metadata": {
    "ExecuteTime": {
     "end_time": "2018-08-22T10:03:05.481790Z",
     "start_time": "2018-08-22T10:02:57.922465Z"
    }
   },
   "outputs": [
    {
     "data": {
      "text/plain": [
       "342696"
      ]
     },
     "execution_count": 14,
     "metadata": {},
     "output_type": "execute_result"
    }
   ],
   "source": [
    "kpi_results = spark.read.jdbc(url=project_url,\n",
    "                          table=results,                          \n",
    "                          properties={\"user\": connector.dbuser.username, \n",
    "                                      \"password\":connector.dbuser.cred,\n",
    "                                      \"partitionColumn\":\"tmp_kpi_level_2_results.session_fk\" ,\n",
    "                                      \"lowerBound\":\"{}\".format(lowerBound),\n",
    "                                      \"upperBound\":\"{}\".format(upperBound),\n",
    "                                      \"numPartitions\":\"{}\".format(number_of_partition),\n",
    "                                      \"driver\": 'com.mysql.jdbc.Driver'}).cache()\n",
    "\n",
    "kpi_results.count()\n"
   ]
  },
  {
   "cell_type": "code",
   "execution_count": null,
   "metadata": {
    "ExecuteTime": {
     "start_time": "2018-08-23T07:56:34.932Z"
    }
   },
   "outputs": [],
   "source": [
    "categories_df = spark.read.jdbc(url=project_url,\n",
    "                          table=categories,                          \n",
    "                          properties={\"user\": connector.dbuser.username, \n",
    "                                      \"password\":connector.dbuser.cred,\n",
    "                                      \"driver\": 'com.mysql.jdbc.Driver'}).cache()\n",
    "\n",
    "\n",
    "categories_df.count()"
   ]
  },
  {
   "cell_type": "code",
   "execution_count": null,
   "metadata": {},
   "outputs": [],
   "source": [
    "### statistics "
   ]
  },
  {
   "cell_type": "code",
   "execution_count": 51,
   "metadata": {
    "ExecuteTime": {
     "end_time": "2018-08-22T10:45:51.251067Z",
     "start_time": "2018-08-22T10:45:50.670690Z"
    }
   },
   "outputs": [
    {
     "data": {
      "text/plain": [
       "11"
      ]
     },
     "execution_count": 51,
     "metadata": {},
     "output_type": "execute_result"
    }
   ],
   "source": [
    "static_kpi.select(\"client_name\").distinct().count()"
   ]
  },
  {
   "cell_type": "markdown",
   "metadata": {
    "ExecuteTime": {
     "end_time": "2018-08-12T13:53:44.167854Z",
     "start_time": "2018-08-12T13:53:44.038030Z"
    },
    "scrolled": true
   },
   "source": [
    "### test 1 - kpi not calculated "
   ]
  },
  {
   "cell_type": "code",
   "execution_count": 21,
   "metadata": {
    "ExecuteTime": {
     "end_time": "2018-08-22T10:07:19.419008Z",
     "start_time": "2018-08-22T10:07:17.089839Z"
    }
   },
   "outputs": [
    {
     "name": "stdout",
     "output_type": "stream",
     "text": [
      "+------------------+------+------------+------------------+-------------+\n",
      "|       client_name|result|result_count|       client_name|session count|\n",
      "+------------------+------+------------+------------------+-------------+\n",
      "|eye_hand_level_sos|  null|          13|eye_hand_level_sos|            8|\n",
      "+------------------+------+------------+------------------+-------------+\n",
      "\n"
     ]
    }
   ],
   "source": [
    "from pyspark.sql.functions import countDistinct\n",
    "\n",
    "merged_kpi_results = static_kpi.join(kpi_results, static_kpi.pk == kpi_results.kpi_level_2_fk ,how='left')\n",
    "filtered = merged_kpi_results.filter('result is null')\n",
    "df = filtered.groupBy(\"client_name\",\"result\").count().withColumnRenamed('count', 'result_count')\n",
    "df2 = filtered.groupBy(\"client_name\").agg(countDistinct(\"session_fk\").alias(\"session count\"))\n",
    "df.join(df2, df2.client_name == df.client_name).show()\n",
    "\n",
    "\n"
   ]
  },
  {
   "cell_type": "markdown",
   "metadata": {
    "ExecuteTime": {
     "end_time": "2018-08-12T17:10:25.315228Z",
     "start_time": "2018-08-12T17:10:25.309210Z"
    }
   },
   "source": [
    "### test -invalid % results"
   ]
  },
  {
   "cell_type": "code",
   "execution_count": 30,
   "metadata": {
    "ExecuteTime": {
     "end_time": "2018-08-21T00:09:51.862312Z",
     "start_time": "2018-08-21T00:09:51.292149Z"
    }
   },
   "outputs": [],
   "source": [
    "t = merged_kpi_results.select(\"client_name\").filter('result is null').groupBy(\"client_name\").count().toPandas()\n",
    "t.to_csv(\"file3.csv\")"
   ]
  },
  {
   "cell_type": "code",
   "execution_count": 62,
   "metadata": {
    "ExecuteTime": {
     "end_time": "2018-08-22T12:08:00.653087Z",
     "start_time": "2018-08-22T12:07:58.221373Z"
    }
   },
   "outputs": [
    {
     "name": "stdout",
     "output_type": "stream",
     "text": [
      "+-----------------------------------+------------+-------------+-----------------+\n",
      "|client_name                        |result_count|session_count|session_count%   |\n",
      "+-----------------------------------+------------+-------------+-----------------+\n",
      "|promo                              |9           |9            |37.5             |\n",
      "|PRODUCT_PRESENCE_IN_CATEGORY_CUSTOM|659         |16           |66.66666666666666|\n",
      "|store_assortment - SKU             |659         |16           |66.66666666666666|\n",
      "|eye_hand_level_sos                 |552         |22           |91.66666666666666|\n",
      "|promo - SKU                        |158         |9            |37.5             |\n",
      "+-----------------------------------+------------+-------------+-----------------+\n",
      "\n"
     ]
    }
   ],
   "source": [
    "import pyspark.sql.functions as F\n",
    "\n",
    "#merged_kpi_results.select(\"session_fk\",\"client_name\",\"result\").filter('is_percent = 1 and result < 0 or result > 1').show(1000 ,False)\n",
    "#merged_kpi_results.select(\"client_name\").filter('is_percent = 1 and result < 0 or result > 1').groupBy(\"client_name\").count().show(1000 ,False)\n",
    "\n",
    "total_sessions= merged_kpi_results.select(\"session_fk\").distinct().count()\n",
    "\n",
    "filtered = merged_kpi_results.filter('is_percent = 1 and result < 0 or result > 1')\n",
    "df = filtered.groupBy(\"client_name\").count().withColumnRenamed('count', 'result_count').withColumnRenamed('client_name', 'name')\n",
    "df2 = filtered.groupBy(\"client_name\").agg(countDistinct(\"session_fk\").alias(\"session_count\"))\n",
    "test_restuls = df.join(df2, df2.client_name == df.name)\n",
    "\n",
    "test_restuls.select('client_name','result_count',\"session_count\", (( F.col('session_count') / total_sessions)* 100).alias(\"session_count%\")).show(1000,False)\n",
    "\n"
   ]
  },
  {
   "cell_type": "markdown",
   "metadata": {},
   "source": [
    "### test -results with value 0 \n"
   ]
  },
  {
   "cell_type": "code",
   "execution_count": 18,
   "metadata": {
    "ExecuteTime": {
     "end_time": "2018-08-20T17:00:41.799744Z",
     "start_time": "2018-08-20T17:00:41.780262Z"
    }
   },
   "outputs": [],
   "source": [
    "import pyspark.sql.functions as F"
   ]
  },
  {
   "cell_type": "code",
   "execution_count": 73,
   "metadata": {
    "ExecuteTime": {
     "end_time": "2018-08-22T13:26:05.479814Z",
     "start_time": "2018-08-22T13:26:03.844144Z"
    }
   },
   "outputs": [
    {
     "name": "stdout",
     "output_type": "stream",
     "text": [
      "<class 'pyspark.sql.dataframe.DataFrame'>\n",
      "+-----------------------------------------------+----------------------------------------+\n",
      "|client_name                                    |((total_zero_count / total_count) * 100)|\n",
      "+-----------------------------------------------+----------------------------------------+\n",
      "|promo                                          |10.0                                    |\n",
      "|secondary placement location visibility quality|100.0                                   |\n",
      "|PRODUCT_PRESENCE_IN_CATEGORY_CUSTOM            |23.815028901734102                      |\n",
      "|store_assortment - SKU                         |23.815028901734102                      |\n",
      "|eye_hand_level_sos                             |40.526315789473685                      |\n",
      "|secondary placement location quality           |91.66666666666666                       |\n",
      "|DST_BY_CATEGORY                                |2.9850746268656714                      |\n",
      "|promo - SKU                                    |64.25339366515837                       |\n",
      "|OOS_BY_CATEGORY                                |34.32835820895522                       |\n",
      "|OOS_BY_DYNAMIC_ASSORT                          |12.5                                    |\n",
      "+-----------------------------------------------+----------------------------------------+\n",
      "\n"
     ]
    }
   ],
   "source": [
    "results_with_zero2 = merged_kpi_results.select(\"session_fk\",\"client_name\",\"result\").filter( 'result == 0')\n",
    "\n",
    "\n",
    "merged_kpi_results2 = merged_kpi_results.groupBy('client_name').count().withColumnRenamed('count', 'total_count')\n",
    "results_with_zero2 = results_with_zero2.groupBy('client_name').count().withColumnRenamed('count', 'total_zero_count').withColumnRenamed('client_name', 'client_name_zero')\n",
    "merged_test = merged_kpi_results2.join(results_with_zero2 , results_with_zero2.client_name_zero == merged_kpi_results2.client_name, how= 'left' )\n",
    "\n",
    "print type (merged_test)\n",
    "res= merged_test.select('client_name',( F.col('total_zero_count') / F.col('total_count'))* 100 ) .filter('total_zero_count is not null' )\n",
    "\n",
    "res.show(100, False)\n",
    "#todo write .all to one file \n",
    "# sults_with_zero.write.csv('/tmp/results_with_zero.csv')"
   ]
  },
  {
   "cell_type": "code",
   "execution_count": 91,
   "metadata": {
    "ExecuteTime": {
     "end_time": "2018-08-22T13:54:27.327107Z",
     "start_time": "2018-08-22T13:54:24.443493Z"
    }
   },
   "outputs": [
    {
     "name": "stdout",
     "output_type": "stream",
     "text": [
      "+-----------------------------------------------+------------------+----------------------------+-----------------------------------+\n",
      "|client_name                                    |results_zero_count|results%(out of all results)|session_count%(out of all sessions)|\n",
      "+-----------------------------------------------+------------------+----------------------------+-----------------------------------+\n",
      "|promo                                          |1                 |10.0                        |4.166666666666666                  |\n",
      "|secondary placement location visibility quality|24                |100.0                       |100.0                              |\n",
      "|PRODUCT_PRESENCE_IN_CATEGORY_CUSTOM            |206               |23.815028901734102          |58.333333333333336                 |\n",
      "|store_assortment - SKU                         |206               |23.815028901734102          |58.333333333333336                 |\n",
      "|eye_hand_level_sos                             |385               |40.526315789473685          |91.66666666666666                  |\n",
      "|secondary placement location quality           |22                |91.66666666666666           |91.66666666666666                  |\n",
      "|DST_BY_CATEGORY                                |2                 |2.9850746268656714          |8.333333333333332                  |\n",
      "|promo - SKU                                    |284               |64.25339366515837           |41.66666666666667                  |\n",
      "|OOS_BY_CATEGORY                                |23                |34.32835820895522           |50.0                               |\n",
      "|OOS_BY_DYNAMIC_ASSORT                          |2                 |12.5                        |8.333333333333332                  |\n",
      "+-----------------------------------------------+------------------+----------------------------+-----------------------------------+\n",
      "\n"
     ]
    }
   ],
   "source": [
    "total_sessions= merged_kpi_results.select(\"session_fk\").distinct().count()\n",
    "\n",
    "\n",
    "filtered = merged_kpi_results.filter( 'result == 0')\n",
    "df = filtered.groupBy('client_name').count().withColumnRenamed('count', 'results_zero_count').withColumnRenamed('client_name', 'name')\n",
    "df2 = filtered.groupBy(\"client_name\").agg(F.countDistinct(\"session_fk\").alias(\"session_count\"))\n",
    "df3 = merged_kpi_results.groupBy('client_name').count().withColumnRenamed('count', 'total_count') \\\n",
    ".withColumnRenamed('client_name', 'name2')\n",
    "test_results2 = df.join(df2, df2.client_name == df.name).join(df3, df3.name2 == df.name)\n",
    "#test_results2 = df.join(test_results, test_results.client_name == df.name)\n",
    "test_results2.select('client_name', \\\n",
    "                     'results_zero_count', \\\n",
    "                     # 'total_count',\\\n",
    "                     # \"session_count\",\\\n",
    "                     ((F.col('results_zero_count') / F.col('total_count')) * 100).alias(\"results%(out of all results)\") ,\\\n",
    "                     ((F.col('session_count') / total_sessions) * 100).alias(\"session_count%(out of all sessions)\") \\\n",
    "                     \n",
    "                    ).show(1000, False)\n"
   ]
  },
  {
   "cell_type": "code",
   "execution_count": 92,
   "metadata": {
    "ExecuteTime": {
     "end_time": "2018-08-22T15:51:42.216405Z",
     "start_time": "2018-08-22T15:51:40.356569Z"
    }
   },
   "outputs": [
    {
     "name": "stdout",
     "output_type": "stream",
     "text": [
      "+--------------------+------+--------------------------------+\n",
      "|         client_name|result|(total_zero_count / total_count)|\n",
      "+--------------------+------+--------------------------------+\n",
      "|secondary placeme...|   0.0|                             1.0|\n",
      "|PRODUCT_PRESENCE_...| 100.0|               0.761849710982659|\n",
      "|store_assortment ...| 100.0|               0.761849710982659|\n",
      "|  eye_hand_level_sos| 100.0|              0.5452631578947369|\n",
      "|secondary placeme...|   0.0|              0.9166666666666666|\n",
      "|         promo - SKU|   0.0|              0.6425339366515838|\n",
      "+--------------------+------+--------------------------------+\n",
      "\n"
     ]
    }
   ],
   "source": [
    "### test - uniqe resutls per kpi (there is only 2 result type for kpi)\n",
    "\n",
    "test_results = merged_kpi_results.groupBy('client_name','result').count().withColumnRenamed('count', 'total_zero_count').withColumnRenamed('client_name', 'client_name_zero')\n",
    "validation = merged_kpi_results2.join(test_results , test_results.client_name_zero == merged_kpi_results2.client_name, how= 'left' )\n",
    "\n",
    "validation.select('client_name' ,'result' , (F.col('total_zero_count') / F.col('total_count'))).filter((F.col('total_zero_count') / F.col('total_count') ) > 0.5  ).show()\n"
   ]
  },
  {
   "cell_type": "code",
   "execution_count": 97,
   "metadata": {
    "ExecuteTime": {
     "end_time": "2018-08-22T17:52:38.942887Z",
     "start_time": "2018-08-22T17:52:38.357496Z"
    }
   },
   "outputs": [
    {
     "name": "stdout",
     "output_type": "stream",
     "text": [
      "+--------------------+-------------------+\n",
      "|         client_name|     stddev(result)|\n",
      "+--------------------+-------------------+\n",
      "|               promo|  15.98914958179105|\n",
      "|secondary placeme...|                0.0|\n",
      "|PRODUCT_PRESENCE_...|  42.61979853981476|\n",
      "|store_level_assor...| 0.1267231540019259|\n",
      "|store_assortment ...|  42.61979853981476|\n",
      "|  eye_hand_level_sos|  48.78212290333069|\n",
      "|secondary placeme...|0.28232985128663995|\n",
      "|     DST_BY_CATEGORY| 0.2387539758185753|\n",
      "|         promo - SKU|  47.97967303700703|\n",
      "|     OOS_BY_CATEGORY|0.23875398002180076|\n",
      "|OOS_BY_DYNAMIC_AS...|0.12672312700691943|\n",
      "+--------------------+-------------------+\n",
      "\n"
     ]
    }
   ],
   "source": [
    "#### std per kpi \n",
    "merged_kpi_results.groupBy('client_name').agg({\"result\":\"stddev\"}).show()"
   ]
  },
  {
   "cell_type": "code",
   "execution_count": 110,
   "metadata": {
    "ExecuteTime": {
     "end_time": "2018-08-23T10:50:19.529182Z",
     "start_time": "2018-08-23T10:50:19.375730Z"
    }
   },
   "outputs": [
    {
     "data": {
      "text/plain": [
       "999"
      ]
     },
     "execution_count": 110,
     "metadata": {},
     "output_type": "execute_result"
    }
   ],
   "source": [
    "merged_kpi_results.filter('denominator_type_fk = 4').count()"
   ]
  }
 ],
 "metadata": {
  "kernelspec": {
   "display_name": "Python 2",
   "language": "python",
   "name": "python2"
  },
  "language_info": {
   "codemirror_mode": {
    "name": "ipython",
    "version": 2
   },
   "file_extension": ".py",
   "mimetype": "text/x-python",
   "name": "python",
   "nbconvert_exporter": "python",
   "pygments_lexer": "ipython2",
   "version": "2.7.13"
  }
 },
 "nbformat": 4,
 "nbformat_minor": 2
}
