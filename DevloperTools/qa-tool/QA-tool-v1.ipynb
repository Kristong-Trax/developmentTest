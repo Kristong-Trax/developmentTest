{
 "cells": [
  {
   "cell_type": "code",
   "execution_count": 2,
   "metadata": {
    "scrolled": false
   },
   "outputs": [
    {
     "name": "stdout",
     "output_type": "stream",
     "text": [
      "Log was not initialized - Unable to access vault while running in dev environment. (extra=None)\n",
      "Log was not initialized - Unable to access vault while running in dev environment. (extra=None)\n",
      "Log was not initialized - Unable to access vault while running in dev environment. (extra=None)\n",
      "Log was not initialized - Deprecated usage of secret_keys file for username!!! (extra=None)\n",
      "Log was not initialized - Deprecated usage of secret_keys file for password!!! (extra=None)\n",
      "Log was not initialized - Credentials are updated from secret_keys configuration file! Application name:  . Mongo name: Smart (extra=None)\n",
      "Log was not initialized - Open connection to SmartDev db. (extra=None)\n",
      "Log was not initialized - Closed connection to SmartDev db. (extra=None)\n"
     ]
    },
    {
     "name": "stderr",
     "output_type": "stream",
     "text": [
      "No handlers could be found for logger \"Trax\"\n"
     ]
    }
   ],
   "source": [
    "%matplotlib nbagg\n",
    "\n",
    "import sys \n",
    "import MySQLdb\n",
    "import pandas as pd \n",
    "import matplotlib.pyplot as plt\n",
    "\n",
    "from Trax.Utils.Conf.Configuration import Config\n",
    "from Trax.Data.Projects.Connector import ProjectConnector\n",
    "from Trax.Cloud.Services.Connector.Keys import DbUsers\n",
    "\n",
    "Config.init(app_name=' ', config_file='~/theGarage/Trax/Apps/Services/KEngine/k-engine-prod.config')\n",
    "Config.PROD \n",
    "\n",
    "\n",
    "\n",
    "connector = ProjectConnector('diageous', DbUsers.Docker)\n",
    "static = '''SELECT * FROM  static.kpi_level_2'''\n",
    "static_kpi = data = pd.read_sql_query(static, connector.db)\n",
    "results = '''SELECT * FROM report.kpi_level_2_results'''\n",
    "kpi_results = data = pd.read_sql_query(results, connector.db)\n",
    "connector.disconnect_rds()\n",
    "\n",
    "expected = pd.read_csv('expected.csv')\n",
    "\n"
   ]
  },
  {
   "cell_type": "markdown",
   "metadata": {},
   "source": [
    "### test - uncalculated KPI\n"
   ]
  },
  {
   "cell_type": "code",
   "execution_count": 36,
   "metadata": {},
   "outputs": [
    {
     "data": {
      "text/plain": [
       "1788930           Assortment on Trade\n",
       "1788931     Assortment on Trade - SKU\n",
       "1788932          Assortment off Trade\n",
       "1788933    Assortment off Trade - SKU\n",
       "Name: client_name, dtype: object"
      ]
     },
     "execution_count": 36,
     "metadata": {},
     "output_type": "execute_result"
    }
   ],
   "source": [
    "kpi_results2 = static_kpi.merge(kpi_results, left_on='pk' ,right_on='kpi_level_2_fk', how='left')\n",
    "kpi_results2 = kpi_results2.loc[kpi_results2['kpi_calculation_stage_fk'] == 3] # .groupby(by=['session_fk','client_name']).count()\n",
    "kpi_results2[kpi_results2.isnull().result].client_name\n"
   ]
  },
  {
   "cell_type": "markdown",
   "metadata": {},
   "source": [
    "### test -invalid % results"
   ]
  },
  {
   "cell_type": "code",
   "execution_count": null,
   "metadata": {
    "collapsed": true
   },
   "outputs": [],
   "source": [
    "#load data\n",
    "merged_kpi_results = static_kpi.merge(kpi_results, left_on='pk' ,right_on='kpi_level_2_fk', how='left')\n",
    "\n",
    "# precent results should be between 0-1 \n",
    "res = merged_kpi_results.loc[(merged_kpi_results['kpi_calculation_stage_fk'] == 3) & (merged_kpi_results['is_percent'] == 1 )]\n",
    "res.result.plot()\n",
    "\n",
    "print \n",
    "res[(res.result > 1) | (res.result < 0)][['session_fk','result']]"
   ]
  },
  {
   "cell_type": "markdown",
   "metadata": {},
   "source": [
    "### test -results with value 0 "
   ]
  },
  {
   "cell_type": "code",
   "execution_count": 2,
   "metadata": {},
   "outputs": [
    {
     "ename": "NameError",
     "evalue": "name 'merged_kpi_results' is not defined",
     "output_type": "error",
     "traceback": [
      "\u001b[1;31m---------------------------------------------------------------------------\u001b[0m",
      "\u001b[1;31mNameError\u001b[0m                                 Traceback (most recent call last)",
      "\u001b[1;32m<ipython-input-2-72abf92a04fa>\u001b[0m in \u001b[0;36m<module>\u001b[1;34m()\u001b[0m\n\u001b[1;32m----> 1\u001b[1;33m \u001b[0mres\u001b[0m \u001b[1;33m=\u001b[0m \u001b[0mmerged_kpi_results\u001b[0m\u001b[1;33m.\u001b[0m\u001b[0mloc\u001b[0m\u001b[1;33m[\u001b[0m\u001b[1;33m(\u001b[0m\u001b[0mmerged_kpi_results\u001b[0m\u001b[1;33m[\u001b[0m\u001b[1;34m'kpi_calculation_stage_fk'\u001b[0m\u001b[1;33m]\u001b[0m \u001b[1;33m==\u001b[0m \u001b[1;36m3\u001b[0m\u001b[1;33m)\u001b[0m\u001b[1;33m]\u001b[0m\u001b[1;33m\u001b[0m\u001b[0m\n\u001b[0m\u001b[0;32m      2\u001b[0m \u001b[1;32mprint\u001b[0m \u001b[1;34m\" % results with 0 \"\u001b[0m\u001b[1;33m\u001b[0m\u001b[0m\n\u001b[0;32m      3\u001b[0m \u001b[1;32mprint\u001b[0m  \u001b[0mlen\u001b[0m\u001b[1;33m(\u001b[0m\u001b[0mres\u001b[0m\u001b[1;33m[\u001b[0m\u001b[0mres\u001b[0m\u001b[1;33m.\u001b[0m\u001b[0mresult\u001b[0m \u001b[1;33m==\u001b[0m \u001b[1;36m0\u001b[0m\u001b[1;33m]\u001b[0m\u001b[1;33m.\u001b[0m\u001b[0mpk_x\u001b[0m\u001b[1;33m)\u001b[0m \u001b[1;33m/\u001b[0m \u001b[0mfloat\u001b[0m\u001b[1;33m(\u001b[0m\u001b[0mlen\u001b[0m\u001b[1;33m(\u001b[0m\u001b[0mres\u001b[0m\u001b[1;33m.\u001b[0m\u001b[0mpk_x\u001b[0m\u001b[1;33m)\u001b[0m\u001b[1;33m)\u001b[0m\u001b[1;33m*\u001b[0m\u001b[1;36m100\u001b[0m\u001b[1;33m\u001b[0m\u001b[0m\n\u001b[0;32m      4\u001b[0m \u001b[0mres\u001b[0m\u001b[1;33m[\u001b[0m\u001b[1;33m(\u001b[0m\u001b[0mres\u001b[0m\u001b[1;33m.\u001b[0m\u001b[0mresult\u001b[0m \u001b[1;33m==\u001b[0m \u001b[1;36m0\u001b[0m\u001b[1;33m)\u001b[0m\u001b[1;33m]\u001b[0m\u001b[1;33m[\u001b[0m\u001b[1;33m[\u001b[0m\u001b[1;34m'session_fk'\u001b[0m\u001b[1;33m,\u001b[0m\u001b[1;34m'client_name'\u001b[0m\u001b[1;33m,\u001b[0m\u001b[1;34m'result'\u001b[0m\u001b[1;33m]\u001b[0m\u001b[1;33m]\u001b[0m\u001b[1;33m\u001b[0m\u001b[0m\n",
      "\u001b[1;31mNameError\u001b[0m: name 'merged_kpi_results' is not defined"
     ]
    }
   ],
   "source": [
    "res = merged_kpi_results.loc[(merged_kpi_results['kpi_calculation_stage_fk'] == 3)]\n",
    "print \" % results with 0 \"\n",
    "print  len(res[res.result == 0].pk_x) / float(len(res.pk_x))*100\n",
    "res[(res.result == 0)][['session_fk','client_name','result']]\n"
   ]
  },
  {
   "cell_type": "markdown",
   "metadata": {},
   "source": [
    "### histogram of results "
   ]
  },
  {
   "cell_type": "code",
   "execution_count": 1,
   "metadata": {},
   "outputs": [
    {
     "ename": "NameError",
     "evalue": "name 'static_kpi' is not defined",
     "output_type": "error",
     "traceback": [
      "\u001b[1;31m---------------------------------------------------------------------------\u001b[0m",
      "\u001b[1;31mNameError\u001b[0m                                 Traceback (most recent call last)",
      "\u001b[1;32m<ipython-input-1-af7676d524b3>\u001b[0m in \u001b[0;36m<module>\u001b[1;34m()\u001b[0m\n\u001b[1;32m----> 1\u001b[1;33m \u001b[0mmerged_kpi_results\u001b[0m \u001b[1;33m=\u001b[0m \u001b[0mstatic_kpi\u001b[0m\u001b[1;33m.\u001b[0m\u001b[0mmerge\u001b[0m\u001b[1;33m(\u001b[0m\u001b[0mkpi_results\u001b[0m\u001b[1;33m,\u001b[0m \u001b[0mleft_on\u001b[0m\u001b[1;33m=\u001b[0m\u001b[1;34m'pk'\u001b[0m \u001b[1;33m,\u001b[0m\u001b[0mright_on\u001b[0m\u001b[1;33m=\u001b[0m\u001b[1;34m'kpi_level_2_fk'\u001b[0m\u001b[1;33m,\u001b[0m \u001b[0mhow\u001b[0m\u001b[1;33m=\u001b[0m\u001b[1;34m'left'\u001b[0m\u001b[1;33m)\u001b[0m\u001b[1;33m\u001b[0m\u001b[0m\n\u001b[0m\u001b[0;32m      2\u001b[0m \u001b[0mres\u001b[0m \u001b[1;33m=\u001b[0m \u001b[0mmerged_kpi_results\u001b[0m\u001b[1;33m.\u001b[0m\u001b[0mloc\u001b[0m\u001b[1;33m[\u001b[0m\u001b[1;33m(\u001b[0m\u001b[0mmerged_kpi_results\u001b[0m\u001b[1;33m[\u001b[0m\u001b[1;34m'kpi_calculation_stage_fk'\u001b[0m\u001b[1;33m]\u001b[0m \u001b[1;33m==\u001b[0m \u001b[1;36m3\u001b[0m\u001b[1;33m)\u001b[0m\u001b[1;33m]\u001b[0m\u001b[1;33m\u001b[0m\u001b[0m\n\u001b[0;32m      3\u001b[0m \u001b[1;32mfor\u001b[0m \u001b[0mi\u001b[0m\u001b[1;33m,\u001b[0m\u001b[0mrow\u001b[0m \u001b[1;32min\u001b[0m \u001b[0mstatic_kpi\u001b[0m\u001b[1;33m[\u001b[0m\u001b[0mstatic_kpi\u001b[0m\u001b[1;33m[\u001b[0m\u001b[1;34m'kpi_calculation_stage_fk'\u001b[0m\u001b[1;33m]\u001b[0m \u001b[1;33m==\u001b[0m \u001b[1;36m3\u001b[0m\u001b[1;33m]\u001b[0m\u001b[1;33m.\u001b[0m\u001b[0miterrows\u001b[0m\u001b[1;33m(\u001b[0m\u001b[1;33m)\u001b[0m\u001b[1;33m:\u001b[0m\u001b[1;33m\u001b[0m\u001b[0m\n\u001b[0;32m      4\u001b[0m     \u001b[0mrow\u001b[0m\u001b[1;33m[\u001b[0m\u001b[1;34m'client_name'\u001b[0m\u001b[1;33m]\u001b[0m\u001b[1;33m\u001b[0m\u001b[0m\n\u001b[0;32m      5\u001b[0m     \u001b[0mres\u001b[0m \u001b[1;33m=\u001b[0m \u001b[0mmerged_kpi_results\u001b[0m\u001b[1;33m.\u001b[0m\u001b[0mloc\u001b[0m\u001b[1;33m[\u001b[0m\u001b[1;33m(\u001b[0m\u001b[0mmerged_kpi_results\u001b[0m\u001b[1;33m[\u001b[0m\u001b[1;34m'client_name'\u001b[0m\u001b[1;33m]\u001b[0m \u001b[1;33m==\u001b[0m \u001b[0mrow\u001b[0m\u001b[1;33m[\u001b[0m\u001b[1;34m'client_name'\u001b[0m\u001b[1;33m]\u001b[0m\u001b[1;33m)\u001b[0m\u001b[1;33m]\u001b[0m\u001b[1;33m\u001b[0m\u001b[0m\n",
      "\u001b[1;31mNameError\u001b[0m: name 'static_kpi' is not defined"
     ]
    }
   ],
   "source": [
    "merged_kpi_results = static_kpi.merge(kpi_results, left_on='pk' ,right_on='kpi_level_2_fk', how='left')\n",
    "res = merged_kpi_results.loc[(merged_kpi_results['kpi_calculation_stage_fk'] == 3)]\n",
    "for i,row in static_kpi[static_kpi['kpi_calculation_stage_fk'] == 3].iterrows():   \n",
    "    row['client_name']\n",
    "    res = merged_kpi_results.loc[(merged_kpi_results['client_name'] == row['client_name'])]\n",
    "    res[['client_name','result']].hist()\n",
    "    plt.title(row['client_name'])"
   ]
  },
  {
   "cell_type": "code",
   "execution_count": null,
   "metadata": {
    "scrolled": false
   },
   "outputs": [],
   "source": [
    "### check if results are in expected range \n",
    "expected = pd.read_csv('expected.csv')\n",
    "\n",
    "for i,row in expected.iterrows():    \n",
    "    x = merged_kpi_results.loc[(merged_kpi_results['client_name'] == row['kpi_name']) & ((merged_kpi_results['result'] < row['min']) | (merged_kpi_results['result'] > row['max'])) ] \n",
    "    print \"##### results not in expected range: (\" + str(row['min']) + '-'+ str(row['max']) +' )'   + row['kpi_name']\n",
    "    print x[['session_fk','result']]\n",
    "    "
   ]
  },
  {
   "cell_type": "code",
   "execution_count": 11,
   "metadata": {},
   "outputs": [
    {
     "name": "stdout",
     "output_type": "stream",
     "text": [
      "## there is only 2 result type for kpi National Score - Off Premise\n",
      "[[193   0   0 193 193 193 193 193   0   0   0   0   0 193   0 193 193 193\n",
      "  193 193 193 193   0 193 193 193 193 193 193 193 193   0   0 193 193   0\n",
      "    0   0   0]]\n",
      "## there is only 2 result type for kpi Segment Score - Off Premise\n",
      "[[159   0   0 159 159 159 159 159   0   0   0   0   0 159   0 159 159 159\n",
      "  159 159 159 159   0 159 159 159 159 159 159 159 159   0   0 159 159   0\n",
      "    0   0   0]]\n",
      "## there is only 2 result type for kpi MSRP - Total Score\n",
      "[[176   0   0 176 176 176 176 176   0   0   0   0   0 176   0 176 176 176\n",
      "  176 176 176 176   0 176 176 176 176 176 176 176 176   0 176 176 176   0\n",
      "    0   0   0]]\n",
      "## there is only 2 result type for kpi Assortment on Trade\n",
      "[]\n",
      "## there is only 2 result type for kpi Assortment on Trade - SKU\n",
      "[]\n",
      "## there is only 2 result type for kpi Assortment off Trade\n",
      "[]\n",
      "## there is only 2 result type for kpi Assortment off Trade - SKU\n",
      "[]\n",
      "## there is only 2 result type for kpi National Score - On Premise\n",
      "[[13  0  0 13 13 13 13 13  0  0  0  0  0 13  0 13 13 13 13 13 13 13  0 13\n",
      "  13 13 13 13 13 13 13  0  0 13 13  0  0  0  0]]\n",
      "## there is only 2 result type for kpi Segment Score - On Premise\n",
      "[[13  0  0 13 13 13 13 13  0  0  0  0  0 13  0 13 13 13 13 13 13 13  0 13\n",
      "  13 13 13 13 13 13 13  0  0 13 13  0  0  0  0]]\n"
     ]
    }
   ],
   "source": [
    "## count uniqe results per kpi\n",
    "merged_kpi_results = static_kpi.merge(kpi_results, left_on='pk' ,right_on='kpi_level_2_fk', how='left')\n",
    "res = merged_kpi_results.loc[(merged_kpi_results['kpi_calculation_stage_fk'] == 3)]\n",
    "for i,row in static_kpi[static_kpi['kpi_calculation_stage_fk'] == 3].iterrows(): \n",
    "   \n",
    "    res = merged_kpi_results.loc[merged_kpi_results['client_name'] == row['client_name']]\n",
    "    \n",
    "    if res.empty: \n",
    "        pass \n",
    "    else: \n",
    "        res = res.groupby(['result'])\n",
    "    \n",
    "    if len(res.count().index) < 2:\n",
    "        print '## there is only 2 result type for kpi ' + row['client_name'] \n",
    "        print res.count().get_values()\n"
   ]
  }
 ],
 "metadata": {
  "kernelspec": {
   "display_name": "Python 2",
   "language": "python",
   "name": "python2"
  },
  "language_info": {
   "codemirror_mode": {
    "name": "ipython",
    "version": 2
   },
   "file_extension": ".py",
   "mimetype": "text/x-python",
   "name": "python",
   "nbconvert_exporter": "python",
   "pygments_lexer": "ipython2",
   "version": "2.7.13"
  }
 },
 "nbformat": 4,
 "nbformat_minor": 2
}
