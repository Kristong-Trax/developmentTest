{
 "cells": [
  {
   "cell_type": "code",
   "execution_count": null,
   "metadata": {},
   "outputs": [
    {
     "name": "stdout",
     "output_type": "stream",
     "text": [
      "Log was not initialized - get_credentials: get request returned errors: [u'entry for role ilanp@traxretail.com not found'] (extra=None)\n",
      "Log was not initialized - get_credentials: get request returned errors: [u'entry for role ilanp@traxretail.com not found'] (extra=None)\n",
      "Log was not initialized - get_credentials: Failed to retrieve credentials from vault: exception is :Login to vault failed 1 tiems. last login resulted errors: [u'entry for role ilanp@traxretail.com not found'] (extra=None)\n",
      "Log was not initialized - Traceback (most recent call last):\n",
      "  File \"/home/Ilan/dev/theGarage/Trax/Cloud/Services/Connector/Credentials.py\", line 89, in get_credentials\n",
      "    token = cls.cloud_adapter.get_vault_token(force)\n",
      "  File \"/home/Ilan/dev/theGarage/Trax/Cloud/Services/Connector/ConnectorAdapter.py\", line 94, in get_vault_token\n",
      "    self._login_vault_request()\n",
      "  File \"/home/Ilan/dev/theGarage/Trax/Cloud/Services/Connector/ConnectorAdapter.py\", line 70, in _login_vault_request\n",
      "    self._check_for_errors(result, retries)\n",
      "  File \"/home/Ilan/dev/theGarage/Trax/Cloud/Services/Connector/ConnectorAdapter.py\", line 84, in _check_for_errors\n",
      "    return self._login_vault_request(retries - 1)\n",
      "  File \"/home/Ilan/dev/theGarage/Trax/Cloud/Services/Connector/ConnectorAdapter.py\", line 70, in _login_vault_request\n",
      "    self._check_for_errors(result, retries)\n",
      "  File \"/home/Ilan/dev/theGarage/Trax/Cloud/Services/Connector/ConnectorAdapter.py\", line 85, in _check_for_errors\n",
      "    raise Exception(VaultRequest.LOGIN_FAILED_ERR.format(VaultResource.RETRY_AMOUNT, errors))\n",
      "Exception: Login to vault failed 1 tiems. last login resulted errors: [u'entry for role ilanp@traxretail.com not found']\n",
      " (extra=None)\n",
      "Log was not initialized - get_credentials: get request returned errors: [u'entry for role ilanp@traxretail.com not found'] (extra=None)\n",
      "Log was not initialized - get_credentials: get request returned errors: [u'entry for role ilanp@traxretail.com not found'] (extra=None)\n",
      "Log was not initialized - get_credentials: Failed to retrieve credentials from vault: exception is :Login to vault failed 1 tiems. last login resulted errors: [u'entry for role ilanp@traxretail.com not found'] (extra=None)\n",
      "Log was not initialized - Traceback (most recent call last):\n",
      "  File \"/home/Ilan/dev/theGarage/Trax/Cloud/Services/Connector/Credentials.py\", line 89, in get_credentials\n",
      "    token = cls.cloud_adapter.get_vault_token(force)\n",
      "  File \"/home/Ilan/dev/theGarage/Trax/Cloud/Services/Connector/ConnectorAdapter.py\", line 94, in get_vault_token\n",
      "    self._login_vault_request()\n",
      "  File \"/home/Ilan/dev/theGarage/Trax/Cloud/Services/Connector/ConnectorAdapter.py\", line 70, in _login_vault_request\n",
      "    self._check_for_errors(result, retries)\n",
      "  File \"/home/Ilan/dev/theGarage/Trax/Cloud/Services/Connector/ConnectorAdapter.py\", line 84, in _check_for_errors\n",
      "    return self._login_vault_request(retries - 1)\n",
      "  File \"/home/Ilan/dev/theGarage/Trax/Cloud/Services/Connector/ConnectorAdapter.py\", line 70, in _login_vault_request\n",
      "    self._check_for_errors(result, retries)\n",
      "  File \"/home/Ilan/dev/theGarage/Trax/Cloud/Services/Connector/ConnectorAdapter.py\", line 85, in _check_for_errors\n",
      "    raise Exception(VaultRequest.LOGIN_FAILED_ERR.format(VaultResource.RETRY_AMOUNT, errors))\n",
      "Exception: Login to vault failed 1 tiems. last login resulted errors: [u'entry for role ilanp@traxretail.com not found']\n",
      " (extra=None)\n",
      "Log was not initialized - Deprecated usage of secret_keys file for username!!! (extra=None)\n",
      "Log was not initialized - Deprecated usage of secret_keys file for password!!! (extra=None)\n",
      "Log was not initialized - Credentials are updated from secret_keys configuration file! Application name: ttt. Mongo name: Smart (extra=None)\n",
      "Log was not initialized - Open connection to SmartProd db. (extra=None)\n",
      "Log was not initialized - Closed connection to SmartProd db. (extra=None)\n",
      "Log was not initialized - Connected to sqs in region us-east-1 (extra=None)\n",
      "Log was not initialized - Opened connection to queue diageous-prod-analysis-request in region us-east-1 (extra=None)\n",
      "Log was not initialized - Already connected to sqs in region us-east-1 (extra=None)\n",
      "Log was not initialized - Opened connection to queue diageous-prod-analysis-response in region us-east-1 (extra=None)\n",
      "Log was not initialized - Already connected to sqs in region us-east-1 (extra=None)\n",
      "Log was not initialized - Opened connection to queue diageous-prod-analysis-engine in region us-east-1 (extra=None)\n",
      "Log was not initialized - Already connected to sqs in region us-east-1 (extra=None)\n",
      "Log was not initialized - Opened connection to queue diageous-prod-analysis-request in region us-east-1 (extra=None)\n",
      "Log was not initialized - Already connected to sqs in region us-east-1 (extra=None)\n",
      "Log was not initialized - Opened connection to queue diageous-prod-analysis-response in region us-east-1 (extra=None)\n",
      "Log was not initialized - Already connected to sqs in region us-east-1 (extra=None)\n",
      "Log was not initialized - Opened connection to queue diageous-prod-analysis-engine in region us-east-1 (extra=None)\n"
     ]
    }
   ],
   "source": [
    "from qa_tool import qa \n",
    "from Trax.Utils.Conf.Configuration import Config\n",
    "\n",
    "Config.init(app_name='ttt',default_env='prod', config_file='~/theGarage/Trax/Apps/Services/KEngine/k-engine-prod.config')\n",
    "qa_tool = qa('diageous',start_date='2018-05-01' , end_date='2018-08-01' )\n"
   ]
  },
  {
   "cell_type": "code",
   "execution_count": null,
   "metadata": {
    "collapsed": true,
    "scrolled": false
   },
   "outputs": [],
   "source": [
    "qa_tool.run_all_tests()"
   ]
  }
 ],
 "metadata": {
  "kernelspec": {
   "display_name": "Python 2",
   "language": "python",
   "name": "python2"
  },
  "language_info": {
   "codemirror_mode": {
    "name": "ipython",
    "version": 2
   },
   "file_extension": ".py",
   "mimetype": "text/x-python",
   "name": "python",
   "nbconvert_exporter": "python",
   "pygments_lexer": "ipython2",
   "version": "2.7.13"
  }
 },
 "nbformat": 4,
 "nbformat_minor": 2
}
