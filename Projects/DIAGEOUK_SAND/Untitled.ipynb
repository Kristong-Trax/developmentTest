{
 "cells": [
  {
   "cell_type": "code",
   "execution_count": 2,
   "metadata": {
    "collapsed": false
   },
   "outputs": [
    {
     "name": "stderr",
     "output_type": "stream",
     "text": [
      "\u001b[34m2017-11-02 21:21:40,851 - diageoau calculations - 13584 - INFO - {\"message\": \"Log is saved to /run/user/1001/jupyter/kernel-923e1753-030a-4517-ac54-67023b404542.json\", \"environment\": \"DEV\", \"application\": \"diageoau calculations\", \"id\": \"fb04c0b\", \"process\": \"192.168.1.6:Local\", \"platform\": \"python\", \"severity\": \"INFO\", \"version\": \"unknown\", \"size\": 286}\u001b[0m\n",
      "\u001b[34m2017-11-02 21:21:40,858 - diageoau calculations - 13584 - INFO - {\"message\": \"Log initialized with syslog handler - Running on linux2\", \"environment\": \"DEV\", \"application\": \"diageoau calculations\", \"id\": \"39af81b\", \"process\": \"192.168.1.6:Local\", \"platform\": \"python\", \"severity\": \"INFO\", \"version\": \"unknown\", \"size\": 254}\u001b[0m\n",
      "\u001b[34m2017-11-02 21:21:40,860 - diageoau calculations - 13584 - INFO - {\"message\": \"Log level set to \\\"INFO\\\"\", \"environment\": \"DEV\", \"application\": \"diageoau calculations\", \"id\": \"9f5ebd6\", \"process\": \"192.168.1.6:Local\", \"platform\": \"python\", \"severity\": \"INFO\", \"version\": \"unknown\", \"size\": 224}\u001b[0m\n",
      "\u001b[34m2017-11-02 21:21:40,861 - diageoau calculations - 13584 - INFO - {\"message\": \"Environment set to \\\"Dev\\\"\", \"environment\": \"DEV\", \"application\": \"diageoau calculations\", \"id\": \"92d9745\", \"process\": \"192.168.1.6:Local\", \"platform\": \"python\", \"severity\": \"INFO\", \"version\": \"unknown\", \"size\": 225}\u001b[0m\n",
      "\u001b[34m2017-11-02 21:21:40,863 - diageoau calculations - 13584 - INFO - {\"message\": \"Process PID is 13584\", \"environment\": \"DEV\", \"application\": \"diageoau calculations\", \"id\": \"44b55af\", \"process\": \"192.168.1.6:Local\", \"platform\": \"python\", \"severity\": \"INFO\", \"version\": \"unknown\", \"size\": 219}\u001b[0m\n",
      "\u001b[31m\u001b[1m2017-11-02 21:21:40,864 - diageoau calculations - 13584 - ERROR - {\n",
      "    \"message\": \"Writable session cannot be opened. Configuration file is set incorrectly. Use \\\"database\\\" section with \\\"user-write\\\" key.\",\n",
      "    \"environment\": \"DEV\",\n",
      "    \"application\": \"diageoau calculations\",\n",
      "    \"id\": \"2f39642\",\n",
      "    \"process\": \"192.168.1.6:Local\",\n",
      "    \"platform\": \"python\",\n",
      "    \"severity\": \"ERROR\",\n",
      "    \"version\": \"unknown\",\n",
      "    \"traceback\": [\n",
      "        \"Traceback (most recent call last):\",\n",
      "        \"  File \\\"/home/Ilan/dev/theGarage/Trax/Data/Orm/OrmCore.py\\\", line 30, in __call__\",\n",
      "        \"    dbuser, user = cls._get_user(writable)\",\n",
      "        \"  File \\\"/home/Ilan/dev/theGarage/Trax/Data/Orm/OrmCore.py\\\", line 101, in _get_user\",\n",
      "        \"    raise ValueError('Writable session cannot be opened. Configuration file is set incorrectly. '\",\n",
      "        \"ValueError: Writable session cannot be opened. Configuration file is set incorrectly. Use \\\"database\\\" section with \\\"user-write\\\" key.\"\n",
      "    ],\n",
      "    \"size\": 927\n",
      "}\u001b[0m\n"
     ]
    },
    {
     "ename": "ValueError",
     "evalue": "Writable session cannot be opened. Configuration file is set incorrectly. Use \"database\" section with \"user-write\" key.",
     "output_type": "error",
     "traceback": [
      "\u001b[1;31m---------------------------------------------------------------------------\u001b[0m",
      "\u001b[1;31mValueError\u001b[0m                                Traceback (most recent call last)",
      "\u001b[1;32m<ipython-input-2-728477bdf805>\u001b[0m in \u001b[0;36m<module>\u001b[1;34m()\u001b[0m\n\u001b[0;32m     26\u001b[0m     \u001b[0mConfig\u001b[0m\u001b[1;33m.\u001b[0m\u001b[0minit\u001b[0m\u001b[1;33m(\u001b[0m\u001b[1;33m)\u001b[0m\u001b[1;33m\u001b[0m\u001b[0m\n\u001b[0;32m     27\u001b[0m     \u001b[0mproject_name\u001b[0m \u001b[1;33m=\u001b[0m \u001b[1;34m'diageouk-sand'\u001b[0m\u001b[1;33m\u001b[0m\u001b[0m\n\u001b[1;32m---> 28\u001b[1;33m     \u001b[0mdata_provider\u001b[0m \u001b[1;33m=\u001b[0m \u001b[0mKEngineDataProvider\u001b[0m\u001b[1;33m(\u001b[0m\u001b[0mproject_name\u001b[0m\u001b[1;33m)\u001b[0m\u001b[1;33m\u001b[0m\u001b[0m\n\u001b[0m\u001b[0;32m     29\u001b[0m     \u001b[0msession\u001b[0m \u001b[1;33m=\u001b[0m \u001b[1;34m'2F430E55-FD57-48D6-8BFA-2780BC7A7FD6'\u001b[0m\u001b[1;33m\u001b[0m\u001b[0m\n\u001b[0;32m     30\u001b[0m     \u001b[0mdata_provider\u001b[0m\u001b[1;33m.\u001b[0m\u001b[0mload_session_data\u001b[0m\u001b[1;33m(\u001b[0m\u001b[0msession\u001b[0m\u001b[1;33m)\u001b[0m\u001b[1;33m\u001b[0m\u001b[0m\n",
      "\u001b[1;32m/home/Ilan/dev/theGarage/Trax/Algo/Calculations/Core/DataProvider.pyc\u001b[0m in \u001b[0;36m__init__\u001b[1;34m(self, project_name, orm_session, handler_name, monitor, delete_delegate)\u001b[0m\n\u001b[0;32m    147\u001b[0m             \u001b[0mmonitor\u001b[0m \u001b[1;33m=\u001b[0m \u001b[0mMetrics\u001b[0m\u001b[1;33m.\u001b[0m\u001b[0mStatsDMetricsProxy\u001b[0m\u001b[1;33m(\u001b[0m\u001b[0menvironment\u001b[0m\u001b[1;33m,\u001b[0m \u001b[1;34m'DataProvider'\u001b[0m\u001b[1;33m,\u001b[0m \u001b[0mhandler_name\u001b[0m\u001b[1;33m)\u001b[0m\u001b[1;33m\u001b[0m\u001b[0m\n\u001b[0;32m    148\u001b[0m         \u001b[0mself\u001b[0m\u001b[1;33m.\u001b[0m\u001b[0m_monitor\u001b[0m \u001b[1;33m=\u001b[0m \u001b[0mmonitor\u001b[0m\u001b[1;33m\u001b[0m\u001b[0m\n\u001b[1;32m--> 149\u001b[1;33m         \u001b[0mself\u001b[0m\u001b[1;33m.\u001b[0m\u001b[0morm_session\u001b[0m \u001b[1;33m=\u001b[0m \u001b[0morm_session\u001b[0m \u001b[1;32mif\u001b[0m \u001b[0morm_session\u001b[0m \u001b[1;32mis\u001b[0m \u001b[1;32mnot\u001b[0m \u001b[0mNone\u001b[0m \u001b[1;32melse\u001b[0m \u001b[0mOrmSession\u001b[0m\u001b[1;33m(\u001b[0m\u001b[0mproject_name\u001b[0m\u001b[1;33m,\u001b[0m \u001b[0mwritable\u001b[0m\u001b[1;33m=\u001b[0m\u001b[0mTrue\u001b[0m\u001b[1;33m)\u001b[0m\u001b[1;33m\u001b[0m\u001b[0m\n\u001b[0m\u001b[0;32m    150\u001b[0m         \u001b[0mself\u001b[0m\u001b[1;33m.\u001b[0m\u001b[0mproject_connector\u001b[0m \u001b[1;33m=\u001b[0m \u001b[0mProjectConnector\u001b[0m\u001b[1;33m(\u001b[0m\u001b[0mself\u001b[0m\u001b[1;33m.\u001b[0m\u001b[0mproject_name\u001b[0m\u001b[1;33m,\u001b[0m \u001b[0mDbUsers\u001b[0m\u001b[1;33m.\u001b[0m\u001b[0mCalculationEng\u001b[0m\u001b[1;33m)\u001b[0m\u001b[1;33m\u001b[0m\u001b[0m\n\u001b[0;32m    151\u001b[0m         \u001b[0mself\u001b[0m\u001b[1;33m.\u001b[0m\u001b[0m_data\u001b[0m \u001b[1;33m=\u001b[0m \u001b[0mdict\u001b[0m\u001b[1;33m(\u001b[0m\u001b[1;33m)\u001b[0m\u001b[1;33m\u001b[0m\u001b[0m\n",
      "\u001b[1;32m/home/Ilan/dev/theGarage/Trax/Data/Orm/OrmCore.pyc\u001b[0m in \u001b[0;36m__call__\u001b[1;34m(cls, project, writable)\u001b[0m\n\u001b[0;32m     28\u001b[0m         \u001b[0mcls\u001b[0m\u001b[1;33m.\u001b[0m\u001b[0m_sessions_lock\u001b[0m\u001b[1;33m.\u001b[0m\u001b[0macquire\u001b[0m\u001b[1;33m(\u001b[0m\u001b[1;33m)\u001b[0m\u001b[1;33m\u001b[0m\u001b[0m\n\u001b[0;32m     29\u001b[0m         \u001b[1;32mtry\u001b[0m\u001b[1;33m:\u001b[0m\u001b[1;33m\u001b[0m\u001b[0m\n\u001b[1;32m---> 30\u001b[1;33m             \u001b[0mdbuser\u001b[0m\u001b[1;33m,\u001b[0m \u001b[0muser\u001b[0m \u001b[1;33m=\u001b[0m \u001b[0mcls\u001b[0m\u001b[1;33m.\u001b[0m\u001b[0m_get_user\u001b[0m\u001b[1;33m(\u001b[0m\u001b[0mwritable\u001b[0m\u001b[1;33m)\u001b[0m\u001b[1;33m\u001b[0m\u001b[0m\n\u001b[0m\u001b[0;32m     31\u001b[0m \u001b[1;33m\u001b[0m\u001b[0m\n\u001b[0;32m     32\u001b[0m             \u001b[0mthread\u001b[0m \u001b[1;33m=\u001b[0m \u001b[0mthreading\u001b[0m\u001b[1;33m.\u001b[0m\u001b[0mcurrentThread\u001b[0m\u001b[1;33m(\u001b[0m\u001b[1;33m)\u001b[0m\u001b[1;33m\u001b[0m\u001b[0m\n",
      "\u001b[1;32m/home/Ilan/dev/theGarage/Trax/Data/Orm/OrmCore.pyc\u001b[0m in \u001b[0;36m_get_user\u001b[1;34m(write_permissions)\u001b[0m\n\u001b[0;32m     99\u001b[0m                 \u001b[0mpermissions\u001b[0m \u001b[1;33m=\u001b[0m \u001b[0mUSER_WRITE\u001b[0m\u001b[1;33m\u001b[0m\u001b[0m\n\u001b[0;32m    100\u001b[0m             \u001b[1;32melse\u001b[0m\u001b[1;33m:\u001b[0m\u001b[1;33m\u001b[0m\u001b[0m\n\u001b[1;32m--> 101\u001b[1;33m                 raise ValueError('Writable session cannot be opened. Configuration file is set incorrectly. '\n\u001b[0m\u001b[0;32m    102\u001b[0m                                  'Use \"database\" section with \"user-write\" key.')\n\u001b[0;32m    103\u001b[0m         \u001b[1;32melif\u001b[0m \u001b[0mConfig\u001b[0m\u001b[1;33m.\u001b[0m\u001b[0mconfDict\u001b[0m \u001b[1;32mis\u001b[0m \u001b[1;32mnot\u001b[0m \u001b[0mNone\u001b[0m \u001b[1;32mand\u001b[0m \u001b[0mConfig\u001b[0m\u001b[1;33m.\u001b[0m\u001b[0mconfDict\u001b[0m\u001b[1;33m.\u001b[0m\u001b[0mget\u001b[0m\u001b[1;33m(\u001b[0m\u001b[0mDATABASE_SECTION\u001b[0m\u001b[1;33m,\u001b[0m \u001b[0mUSER_READONLY\u001b[0m\u001b[1;33m,\u001b[0m \u001b[0mNone\u001b[0m\u001b[1;33m)\u001b[0m\u001b[1;33m:\u001b[0m\u001b[1;33m\u001b[0m\u001b[0m\n",
      "\u001b[1;31mValueError\u001b[0m: Writable session cannot be opened. Configuration file is set incorrectly. Use \"database\" section with \"user-write\" key."
     ]
    },
    {
     "name": "stderr",
     "output_type": "stream",
     "text": [
      "/home/Ilan/miniconda/envs/garage/lib/python2.7/site-packages/simplejson/encoder.py:291: DeprecationWarning: Interpreting naive datetime as local 2017-11-02 21:21:40.778443. Please add timezone info to timestamps.\n",
      "  chunks = self.iterencode(o, _one_shot=True)\n"
     ]
    }
   ],
   "source": [
    "import sys, os\n",
    "sys.path.insert(0, os.path.dirname(os.path.abspath('..')))\n",
    "\n",
    "\n",
    "from Trax.Algo.Calculations.Core.CalculationsScript import BaseCalculationsScript\n",
    "from Trax.Algo.Calculations.Core.DataProvider import KEngineDataProvider, Output\n",
    "from Trax.Utils.Conf.Configuration import Config\n",
    "from Trax.Utils.Logging.Logger import Log\n",
    "\n",
    "\n",
    "\n",
    "from Projects.DIAGEOUK_SAND.KPIGenerator import DIAGEOUK_SANDGenerator\n",
    "\n",
    "__author__ = 'Nimrod'\n",
    "\n",
    "\n",
    "class DIAGEOUK_SANDCalculations(BaseCalculationsScript):\n",
    "    def run_project_calculations(self):\n",
    "        self.timer.start()\n",
    "        DIAGEOUK_SANDGenerator(self.data_provider, self.output).main_function()\n",
    "        self.timer.stop('KPIGenerator.run_project_calculations')\n",
    "\n",
    "\n",
    "if __name__ == '__main__':\n",
    "    Log.init('diageoau calculations')\n",
    "    Config.init()\n",
    "    project_name = 'diageouk-sand'\n",
    "    data_provider = KEngineDataProvider(project_name)\n",
    "    session = '2F430E55-FD57-48D6-8BFA-2780BC7A7FD6'\n",
    "    data_provider.load_session_data(session)\n",
    "    output = Output()\n",
    "    DIAGEOUK_SANDCalculations(data_provider, output).run_project_calculations()\n"
   ]
  }
 ],
 "metadata": {
  "kernelspec": {
   "display_name": "Python 2",
   "language": "python",
   "name": "python2"
  },
  "language_info": {
   "codemirror_mode": {
    "name": "ipython",
    "version": 2
   },
   "file_extension": ".py",
   "mimetype": "text/x-python",
   "name": "python",
   "nbconvert_exporter": "python",
   "pygments_lexer": "ipython2",
   "version": "2.7.6"
  }
 },
 "nbformat": 4,
 "nbformat_minor": 1
}
